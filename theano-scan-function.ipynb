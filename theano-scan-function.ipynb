{
 "cells": [
  {
   "cell_type": "code",
   "execution_count": 2,
   "metadata": {
    "collapsed": false
   },
   "outputs": [
    {
     "name": "stderr",
     "output_type": "stream",
     "text": [
      "Using gpu device 0: GeForce GT 750M (CNMeM is disabled, cuDNN not available)\n"
     ]
    }
   ],
   "source": [
    "import theano\n",
    "import theano.tensor as T\n",
    "from theano.printing import pydotprint\n",
    "from IPython.display import Image\n",
    "from theano import pp\n",
    "from collections import OrderedDict\n",
    "import numpy as np\n",
    "import matplotlib.pyplot as plt\n",
    "from sklearn import datasets\n",
    "from sklearn.metrics import zero_one_loss\n",
    "%matplotlib inline\n",
    "import re"
   ]
  },
  {
   "cell_type": "markdown",
   "metadata": {},
   "source": [
    "### Multiplying Matrices"
   ]
  },
  {
   "cell_type": "code",
   "execution_count": 3,
   "metadata": {
    "collapsed": false
   },
   "outputs": [],
   "source": [
    "A = np.array([[1, 1, 1],[2, 2, 2],[3, 3, 3]], dtype='int32')"
   ]
  },
  {
   "cell_type": "code",
   "execution_count": 4,
   "metadata": {
    "collapsed": false
   },
   "outputs": [
    {
     "name": "stdout",
     "output_type": "stream",
     "text": [
      "A:\n",
      " [[1 1 1]\n",
      " [2 2 2]\n",
      " [3 3 3]]\n"
     ]
    }
   ],
   "source": [
    "print('A:\\n ' + str(A))"
   ]
  },
  {
   "cell_type": "code",
   "execution_count": 5,
   "metadata": {
    "collapsed": true
   },
   "outputs": [],
   "source": [
    "def kpow(A, k):\n",
    "    result = np.identity(A.shape[0])\n",
    "    for _ in range(k):\n",
    "        result = np.dot(result, A)\n",
    "    return result"
   ]
  },
  {
   "cell_type": "code",
   "execution_count": 6,
   "metadata": {
    "collapsed": true
   },
   "outputs": [],
   "source": [
    "def kpow(A, k):\n",
    "    accumulated = []\n",
    "    result = np.identity(A.shape[0])\n",
    "    for i in range(k):\n",
    "        result = np.dot(result, A)\n",
    "    return result"
   ]
  },
  {
   "cell_type": "code",
   "execution_count": 7,
   "metadata": {
    "collapsed": true
   },
   "outputs": [],
   "source": [
    "def kpow(A, k, accum=[]):\n",
    "    if k == 0:\n",
    "        return np.identity(A.shape[0])\n",
    "    if k == 1:\n",
    "        return A\n",
    "    else:\n",
    "        return np.dot(A, kpow(A, k-1))\n",
    "    "
   ]
  },
  {
   "cell_type": "code",
   "execution_count": 130,
   "metadata": {
    "collapsed": false
   },
   "outputs": [],
   "source": [
    "k = 5\n",
    "A = np.array([[1, 1, 1],[2, 2, 2],[3, 3, 3]])\n",
    "Apow = [kpow(A,i) for i in range(k)]"
   ]
  },
  {
   "cell_type": "code",
   "execution_count": 132,
   "metadata": {
    "collapsed": false
   },
   "outputs": [
    {
     "data": {
      "text/plain": [
       "array([[1, 1, 1],\n",
       "       [2, 2, 2],\n",
       "       [3, 3, 3]])"
      ]
     },
     "execution_count": 132,
     "metadata": {},
     "output_type": "execute_result"
    }
   ],
   "source": [
    "Apow[1]"
   ]
  },
  {
   "cell_type": "code",
   "execution_count": 66,
   "metadata": {
    "collapsed": false
   },
   "outputs": [
    {
     "data": {
      "text/plain": [
       "1"
      ]
     },
     "execution_count": 66,
     "metadata": {},
     "output_type": "execute_result"
    }
   ],
   "source": [
    "pow(1, 3)"
   ]
  },
  {
   "cell_type": "code",
   "execution_count": 122,
   "metadata": {
    "collapsed": false
   },
   "outputs": [
    {
     "name": "stdout",
     "output_type": "stream",
     "text": [
      "OrderedUpdates()\n"
     ]
    },
    {
     "data": {
      "text/plain": [
       "array([[ 1.,  1.,  1.],\n",
       "       [ 2.,  2.,  2.],\n",
       "       [ 3.,  3.,  3.]])"
      ]
     },
     "execution_count": 122,
     "metadata": {},
     "output_type": "execute_result"
    }
   ],
   "source": [
    "k = T.iscalar('k')\n",
    "M = T.dmatrix('M')\n",
    "\n",
    "def recurrence(M, prev_result):\n",
    "    return T.dot(prev_result, M)\n",
    "    \n",
    "result, updates = theano.scan(fn=recurrence,\n",
    "                              outputs_info=T.identity_like(M), \n",
    "                              non_sequences=M,\n",
    "                              n_steps=k)\n",
    "\n",
    "\n",
    "\n",
    "kpow2 = theano.function(inputs=[M,k], outputs=result)\n",
    "\n",
    "print(updates)\n",
    "\n",
    "[kpow2(A,10)[i] for i in range(10)][0]\n"
   ]
  },
  {
   "cell_type": "code",
   "execution_count": 76,
   "metadata": {
    "collapsed": false
   },
   "outputs": [
    {
     "name": "stdout",
     "output_type": "stream",
     "text": [
      "A^2:\n",
      " [[[  1.   1.   1.]\n",
      "  [  2.   2.   2.]\n",
      "  [  3.   3.   3.]]\n",
      "\n",
      " [[  6.   6.   6.]\n",
      "  [ 12.  12.  12.]\n",
      "  [ 18.  18.  18.]]]\n"
     ]
    }
   ],
   "source": [
    "k = T.iscalar('k')\n",
    "M = T.imatrix('M')\n",
    "\n",
    "\n",
    "# Order to fn: \n",
    "# sequences (if any), prior result(s) (if needed), non-sequences (if any)\n",
    "\n",
    "# Symbolic desc\n",
    "result, updates = theano.scan(fn=lambda M, prev_result: prev_result * M ,\n",
    "                              outputs_info=T.ones_like(M), \n",
    "                              non_sequences=M,\n",
    "                              n_steps=k)\n",
    "\n",
    "print('A^{}:\\n {}'.format(2, kpow2(A,2)))"
   ]
  },
  {
   "cell_type": "markdown",
   "metadata": {
    "collapsed": true
   },
   "source": [
    "**Two very important things to remember**\n",
    "\n",
    "* Scan considers parameters in a unique order: **sequences $\\rightarrow$ previous results $\\rightarrow$ non-sequences**.\n",
    "\n",
    "* Given multiple sequences of uneven lengths, scan will truncate to the shortest of them. \n",
    "This makes it safe to pass a very long arange, which we need to do for generality, since \n",
    "arange must have its length specified at creation time."
   ]
  },
  {
   "cell_type": "markdown",
   "metadata": {},
   "source": [
    "### Building Polynomials with Scan"
   ]
  },
  {
   "cell_type": "code",
   "execution_count": 8,
   "metadata": {
    "collapsed": false
   },
   "outputs": [
    {
     "name": "stdout",
     "output_type": "stream",
     "text": [
      "19.0\n",
      "19.0\n"
     ]
    }
   ],
   "source": [
    "coefficients = theano.tensor.vector(\"coefficients\")\n",
    "x = T.scalar(\"x\")\n",
    "\n",
    "max_coefficients_supported = 10000\n",
    "\n",
    "# Generate the components of the polynomial\n",
    "components, updates = theano.scan(fn=lambda coefficient, power, x: coefficient * (x ** power),\n",
    "                                  outputs_info=None,\n",
    "                                  sequences=[coefficients, theano.tensor.arange(max_coefficients_supported)],\n",
    "                                  non_sequences=x)\n",
    "# Sum them up\n",
    "polynomial = components.sum()\n",
    "\n",
    "# Compile a function\n",
    "calculate_polynomial = theano.function(inputs=[coefficients, x], outputs=polynomial)\n",
    "\n",
    "# Test\n",
    "test_coefficients = np.asarray([1, 0, 2], dtype=np.float32)\n",
    "test_value = 3\n",
    "print(calculate_polynomial(test_coefficients, test_value))\n",
    "print(1.0 * (3 ** 0) + 0.0 * (3 ** 1) + 2.0 * (3 ** 2))"
   ]
  },
  {
   "cell_type": "markdown",
   "metadata": {},
   "source": [
    "### Fibonacci Sequence"
   ]
  },
  {
   "cell_type": "code",
   "execution_count": 9,
   "metadata": {
    "collapsed": false
   },
   "outputs": [
    {
     "data": {
      "text/plain": [
       "[array([   2,    3,    5,    8,   13,   21,   34,   55,   89, -112], dtype=int8),\n",
       " array([ 1,  2,  3,  5,  8, 13, 21, 34, 55, 89], dtype=int8)]"
      ]
     },
     "execution_count": 9,
     "metadata": {},
     "output_type": "execute_result"
    }
   ],
   "source": [
    "n = T.iscalar('n')\n",
    "\n",
    "def fib(n1, n2):\n",
    "    return n1+n2, n1\n",
    "\n",
    "outputs, _ = theano.scan(fn=fib,\n",
    "                         n_steps=n,\n",
    "                         outputs_info=[1,1])\n",
    "\n",
    "fibonacci = theano.function(inputs=[n], outputs=outputs)\n",
    "fibonacci(10)"
   ]
  },
  {
   "cell_type": "markdown",
   "metadata": {
    "collapsed": true
   },
   "source": [
    "### Summing numbers up to n"
   ]
  },
  {
   "cell_type": "code",
   "execution_count": null,
   "metadata": {
    "collapsed": false
   },
   "outputs": [],
   "source": [
    "up_to = T.iscalar(\"up_to\")\n",
    "\n",
    "# define a named function, rather than using lambda\n",
    "def accumulate_by_adding(arange_val, sum_to_date):\n",
    "    return sum_to_date + arange_val\n",
    "seq = T.arange(up_to)\n",
    "\n",
    "# An unauthorized implicit downcast from the dtype of 'seq', to that of\n",
    "# 'T.as_tensor_variable(0)' which is of dtype 'int8' by default would occur\n",
    "# if this instruction were to be used instead of the next one:\n",
    "# outputs_info = T.as_tensor_variable(0)\n",
    "\n",
    "outputs_info = T.as_tensor_variable(np.asarray(0, seq.dtype))\n",
    "scan_result, scan_updates = theano.scan(fn=accumulate_by_adding,\n",
    "                                        outputs_info=outputs_info,\n",
    "                                        sequences=seq)\n",
    "triangular_sequence = theano.function(inputs=[up_to], outputs=scan_result)\n",
    "\n",
    "# test\n",
    "some_num = 15\n",
    "print(triangular_sequence(some_num))\n",
    "print([n * (n + 1) // 2 for n in range(some_num)])"
   ]
  },
  {
   "cell_type": "markdown",
   "metadata": {},
   "source": [
    "### RNN Model in Theano"
   ]
  },
  {
   "cell_type": "markdown",
   "metadata": {},
   "source": [
    "#### Get data"
   ]
  },
  {
   "cell_type": "code",
   "execution_count": 97,
   "metadata": {
    "collapsed": false
   },
   "outputs": [
    {
     "name": "stdout",
     "output_type": "stream",
     "text": [
      "data has 1115393 characters, 65 unique.\n"
     ]
    }
   ],
   "source": [
    "# Load data\n",
    "data = open('data/shakespeare.txt', 'r').read() # should be simple plain text file\n",
    "\n",
    "# Clean Data\n",
    "# data = data.replace('\\n', ' ')\n",
    "# regex = re.compile('[^a-zA-Z!?\\-.,\\(\\)\\'\\ \\n\\r\"]')\n",
    "# data = regex.sub('', data)\n",
    "\n",
    "# Extract charachters\n",
    "chars = sorted(''.join(set(data)))\n",
    "\n",
    "# Data info\n",
    "data_size = len(data)\n",
    "nchars = len(chars)\n",
    "\n",
    "# Print out info\n",
    "print('data has %d characters, %d unique.' % (data_size, nchars))\n",
    "\n",
    "# Create one-hot encoding vectors\n",
    "c2vec = {} # dict to store char -> vec \n",
    "for i in range(nchars):\n",
    "    cvec = np.zeros(nchars)\n",
    "    cvec[i] = 1\n",
    "    c2vec[chars[i]] = (i, cvec)\n",
    "\n",
    "# Create x,y pairs\n",
    "seq_length = 25\n",
    "X = []\n",
    "Y = []\n",
    "\n",
    "# Loop over data and create x,y training pairs\n",
    "for i in range(int(len(data)/seq_length)):\n",
    "        x = [c2vec[c][1] for c in data[i*seq_length:(i+1)*seq_length]]#inputs to the RNN\n",
    "        y = [c2vec[c][0] for c in data[i*seq_length+1:(i+1)*seq_length+1]]#the targets it should be outputting\n",
    "        X.append(np.asarray(x, dtype='float32'))\n",
    "        Y.append(np.asarray(y, dtype='int32'))"
   ]
  },
  {
   "cell_type": "code",
   "execution_count": 243,
   "metadata": {
    "collapsed": true
   },
   "outputs": [],
   "source": [
    "def vec2c(cvec):\n",
    "    return chars[np.argmax(cvec)]"
   ]
  },
  {
   "cell_type": "code",
   "execution_count": 260,
   "metadata": {
    "collapsed": true
   },
   "outputs": [],
   "source": [
    "def load_date(text, seq_length):\n",
    "    X = []\n",
    "    Y = []\n",
    "\n",
    "    # Loop over data and create x,y training pairs\n",
    "    for i in range(int(len(data)/seq_length)):\n",
    "            x = [c2vec[c][1] for c in data[i*seq_length:(i+1)*seq_length]]#inputs to the RNN\n",
    "            y = [c2vec[c][1] for c in data[i*seq_length+1:(i+1)*seq_length+1]]#the targets it should be outputting\n",
    "            X.append(np.asarray(x, dtype='float32'))\n",
    "            Y.append(np.asarray(y, dtype='int32'))\n",
    "            \n",
    "    return X, Y"
   ]
  },
  {
   "cell_type": "code",
   "execution_count": 264,
   "metadata": {
    "collapsed": false
   },
   "outputs": [
    {
     "name": "stdout",
     "output_type": "stream",
     "text": [
      " are all resolved rather to die than to famish?\n",
      "\n",
      "A"
     ]
    },
    {
     "data": {
      "text/plain": [
       "[None,\n",
       " None,\n",
       " None,\n",
       " None,\n",
       " None,\n",
       " None,\n",
       " None,\n",
       " None,\n",
       " None,\n",
       " None,\n",
       " None,\n",
       " None,\n",
       " None,\n",
       " None,\n",
       " None,\n",
       " None,\n",
       " None,\n",
       " None,\n",
       " None,\n",
       " None,\n",
       " None,\n",
       " None,\n",
       " None,\n",
       " None,\n",
       " None,\n",
       " None,\n",
       " None,\n",
       " None,\n",
       " None,\n",
       " None,\n",
       " None,\n",
       " None,\n",
       " None,\n",
       " None,\n",
       " None,\n",
       " None,\n",
       " None,\n",
       " None,\n",
       " None,\n",
       " None,\n",
       " None,\n",
       " None,\n",
       " None,\n",
       " None,\n",
       " None,\n",
       " None,\n",
       " None,\n",
       " None,\n",
       " None,\n",
       " None]"
      ]
     },
     "execution_count": 264,
     "metadata": {},
     "output_type": "execute_result"
    }
   ],
   "source": []
  },
  {
   "cell_type": "markdown",
   "metadata": {},
   "source": [
    "#### Create model"
   ]
  },
  {
   "cell_type": "code",
   "execution_count": 266,
   "metadata": {
    "collapsed": false
   },
   "outputs": [],
   "source": [
    "# Example label pairs\n",
    "x = T.fmatrix('x')\n",
    "y = T.ivector('y')\n",
    "\n",
    "# Data info\n",
    "seq_length = 25\n",
    "xdim = X[0].shape[1]\n",
    "hdim = 50\n",
    "outdim = X[0].shape[1]\n",
    "\n",
    "# Hyperparameters\n",
    "learning_rate = 0.001\n",
    "epochs = 5\n",
    "grad_clip = [-5, 5]\n",
    "seq_length = 50\n",
    "batch_size = 50\n",
    "\n",
    "# Load data\n",
    "X, Y = load_date(data, seq_length)\n",
    "\n",
    "# Parameters\n",
    "np.random.seed(123)\n",
    "w_in = theano.shared(name='w_in', value=np.random.random((hdim,xdim)).astype(theano.config.floatX))\n",
    "w_h = theano.shared(name='w_h', value=np.random.random((hdim,hdim)).astype(theano.config.floatX))\n",
    "b_h = theano.shared(name='b_h', value=np.random.random((hdim,)).astype(theano.config.floatX))\n",
    "w_out = theano.shared(name='w_out', value=np.random.random((outdim,hdim)).astype(theano.config.floatX))\n",
    "b_out = theano.shared(name='b_out', value=np.random.random((outdim,)).astype(theano.config.floatX))\n",
    "h_0 = theano.shared(name='h_0', value=np.ones((hdim,)).astype(theano.config.floatX))\n",
    "\n",
    "params = [w_in, w_h, b_h, w_out, b_out, h_0]\n",
    "\n",
    "# Layer definitons    \n",
    "def input_layer(x, w):\n",
    "    return T.dot(w,x)\n",
    "\n",
    "def hidden_layer(x, h, w, b):\n",
    "    return T.nnet.sigmoid(x + T.dot(w,h) + b)\n",
    "    \n",
    "def output_layer(x, w, b):\n",
    "    return T.nnet.softmax(T.dot(w,x) + b)\n",
    "\n",
    "# Recurrence\n",
    "def recurrence(x_t, h_tm1):\n",
    "    in_t = input_layer(x_t, w_in)\n",
    "    h_t = hidden_layer(in_t, h_tm1, w_h, b_h)\n",
    "    out_t = output_layer(h_t, w_out, b_out)\n",
    "    return [h_t, out_t]\n",
    "\n",
    "[h, out], _ = theano.scan(fn=recurrence,\n",
    "                          sequences=x,\n",
    "                          outputs_info=[h_0, None],\n",
    "                          n_steps=seq_length)\n",
    "\n",
    "# Output \n",
    "p_y_given_x = out[:, 0, :]\n",
    "y_pred = T.argmax(p_y_given_x, axis=1)\n",
    "\n",
    "# Loss\n",
    "loss = -T.mean(T.log(p_y_given_x)[T.arange(x.shape[0]), y]) # not sure what this does? now I know... \n",
    "dLossdParams = T.grad(loss, params)\n",
    "dLossdParams_clipped = [T.clip(g, grad_clip[0], grad_clip[1]) for g in dLossdParams]\n",
    "updates = OrderedDict((p, p - learning_rate*g) for p, g in zip(params, dLossdParams_clipped))\n",
    "\n",
    "# Functions\n",
    "sample = theano.function(inputs=[x], outputs=y_pred)\n",
    "train_step = theano.function(inputs=[x, y], outputs=loss, updates=updates)\n",
    "\n",
    "loss = -T.mean(T.log(p_y_given_x)[T.arange(x.shape[0]), y]) # not sure what this does? now I know... \n",
    "updates = OrderedDict((p, p - learning_rate*g) for p, g in zip(params, dLossdParams_clipped))\n",
    "\n",
    "sample = theano.function(inputs=[x], outputs=y_pred)\n",
    "train_step = theano.function(inputs=[x, y], outputs=loss, updates=updates)"
   ]
  },
  {
   "cell_type": "code",
   "execution_count": 269,
   "metadata": {
    "collapsed": false
   },
   "outputs": [
    {
     "name": "stdout",
     "output_type": "stream",
     "text": [
      "[STARTING]\t[epoch: 0]\t[time: 1477068639.599238]\t[total time: 0.0]\n"
     ]
    },
    {
     "ename": "TypeError",
     "evalue": "('Bad input argument to theano function with name \"<ipython-input-266-39495bba7a9b>:72\" at index 1 (0-based)', 'Wrong number of dimensions: expected 1, got 2 with shape (50, 65).')",
     "output_type": "error",
     "traceback": [
      "\u001b[1;31m---------------------------------------------------------------------------\u001b[0m",
      "\u001b[1;31mTypeError\u001b[0m                                 Traceback (most recent call last)",
      "\u001b[1;32m<ipython-input-269-431ba77b4c37>\u001b[0m in \u001b[0;36m<module>\u001b[1;34m()\u001b[0m\n\u001b[0;32m      9\u001b[0m     \u001b[0mi\u001b[0m \u001b[1;33m=\u001b[0m \u001b[1;36m0\u001b[0m\u001b[1;33m\u001b[0m\u001b[0m\n\u001b[0;32m     10\u001b[0m     \u001b[1;32mfor\u001b[0m \u001b[0mx\u001b[0m\u001b[1;33m,\u001b[0m\u001b[0my\u001b[0m \u001b[1;32min\u001b[0m \u001b[0mzip\u001b[0m\u001b[1;33m(\u001b[0m\u001b[0mX\u001b[0m\u001b[1;33m,\u001b[0m\u001b[0mY\u001b[0m\u001b[1;33m)\u001b[0m\u001b[1;33m:\u001b[0m\u001b[1;33m\u001b[0m\u001b[0m\n\u001b[1;32m---> 11\u001b[1;33m         \u001b[0mloss\u001b[0m \u001b[1;33m=\u001b[0m \u001b[0mtrain_step\u001b[0m\u001b[1;33m(\u001b[0m\u001b[0mx\u001b[0m\u001b[1;33m,\u001b[0m \u001b[0my\u001b[0m\u001b[1;33m)\u001b[0m\u001b[1;33m\u001b[0m\u001b[0m\n\u001b[0m\u001b[0;32m     12\u001b[0m         \u001b[0mi\u001b[0m \u001b[1;33m=\u001b[0m \u001b[0mi\u001b[0m \u001b[1;33m+\u001b[0m \u001b[1;36m1\u001b[0m\u001b[1;33m\u001b[0m\u001b[0m\n\u001b[0;32m     13\u001b[0m         \u001b[1;32mif\u001b[0m \u001b[0mi\u001b[0m \u001b[1;33m==\u001b[0m \u001b[1;36m1\u001b[0m \u001b[1;32mor\u001b[0m \u001b[1;33m(\u001b[0m\u001b[0mi\u001b[0m \u001b[1;33m%\u001b[0m \u001b[1;36m1000\u001b[0m \u001b[1;33m==\u001b[0m \u001b[1;36m0\u001b[0m\u001b[1;33m)\u001b[0m \u001b[1;32mor\u001b[0m \u001b[0mi\u001b[0m \u001b[1;33m==\u001b[0m \u001b[0mlen\u001b[0m\u001b[1;33m(\u001b[0m\u001b[0mX\u001b[0m\u001b[1;33m)\u001b[0m\u001b[1;33m:\u001b[0m\u001b[1;33m\u001b[0m\u001b[0m\n",
      "\u001b[1;32mC:\\BLKDeveloper\\tools\\Anaconda3\\envs\\py34\\lib\\site-packages\\theano\\compile\\function_module.py\u001b[0m in \u001b[0;36m__call__\u001b[1;34m(self, *args, **kwargs)\u001b[0m\n\u001b[0;32m    786\u001b[0m                         s.storage[0] = s.type.filter(\n\u001b[0;32m    787\u001b[0m                             \u001b[0marg\u001b[0m\u001b[1;33m,\u001b[0m \u001b[0mstrict\u001b[0m\u001b[1;33m=\u001b[0m\u001b[0ms\u001b[0m\u001b[1;33m.\u001b[0m\u001b[0mstrict\u001b[0m\u001b[1;33m,\u001b[0m\u001b[1;33m\u001b[0m\u001b[0m\n\u001b[1;32m--> 788\u001b[1;33m                             allow_downcast=s.allow_downcast)\n\u001b[0m\u001b[0;32m    789\u001b[0m \u001b[1;33m\u001b[0m\u001b[0m\n\u001b[0;32m    790\u001b[0m                     \u001b[1;32mexcept\u001b[0m \u001b[0mException\u001b[0m \u001b[1;32mas\u001b[0m \u001b[0me\u001b[0m\u001b[1;33m:\u001b[0m\u001b[1;33m\u001b[0m\u001b[0m\n",
      "\u001b[1;32mC:\\BLKDeveloper\\tools\\Anaconda3\\envs\\py34\\lib\\site-packages\\theano\\tensor\\type.py\u001b[0m in \u001b[0;36mfilter\u001b[1;34m(self, data, strict, allow_downcast)\u001b[0m\n\u001b[0;32m    176\u001b[0m             raise TypeError(\"Wrong number of dimensions: expected %s,\"\n\u001b[0;32m    177\u001b[0m                             \" got %s with shape %s.\" % (self.ndim, data.ndim,\n\u001b[1;32m--> 178\u001b[1;33m                                                         data.shape))\n\u001b[0m\u001b[0;32m    179\u001b[0m         \u001b[1;32mif\u001b[0m \u001b[1;32mnot\u001b[0m \u001b[0mdata\u001b[0m\u001b[1;33m.\u001b[0m\u001b[0mflags\u001b[0m\u001b[1;33m.\u001b[0m\u001b[0maligned\u001b[0m\u001b[1;33m:\u001b[0m\u001b[1;33m\u001b[0m\u001b[0m\n\u001b[0;32m    180\u001b[0m             \u001b[1;32mtry\u001b[0m\u001b[1;33m:\u001b[0m\u001b[1;33m\u001b[0m\u001b[0m\n",
      "\u001b[1;31mTypeError\u001b[0m: ('Bad input argument to theano function with name \"<ipython-input-266-39495bba7a9b>:72\" at index 1 (0-based)', 'Wrong number of dimensions: expected 1, got 2 with shape (50, 65).')"
     ]
    }
   ],
   "source": [
    "import time\n",
    "\n",
    "# Train\n",
    "total_time = time.time()\n",
    "for epoch in range(epochs+1):\n",
    "    start_time = time.time()\n",
    "    print('[STARTING]\\t[epoch: {}]\\t[time: {}]\\t[total time: {}]'.format(epoch, start_time, (time.time() - total_time)))\n",
    "    loss = 0\n",
    "    i = 0\n",
    "    for x,y in zip(X,Y):\n",
    "        loss = train_step(x, y)\n",
    "        i = i + 1\n",
    "        if i == 1 or (i % 1000 == 0) or i == len(X):\n",
    "            print('{}/{} \\t loss: {}'.format(i, len(X), loss/i))\n",
    "    print('[ENDING]\\t[epoch: {}]\\t[time: {}]\\t[total time: {}]'.format(epoch, (time.time() - start_time), (time.time() - total_time)))"
   ]
  },
  {
   "cell_type": "code",
   "execution_count": null,
   "metadata": {
    "collapsed": false
   },
   "outputs": [],
   "source": [
    "w_h.get_value()"
   ]
  },
  {
   "cell_type": "code",
   "execution_count": 14,
   "metadata": {
    "collapsed": false
   },
   "outputs": [
    {
     "data": {
      "text/plain": [
       "(49, array([ 0.,  0.,  0.,  0.,  0.,  0.,  0.,  0.,  0.,  0.,  0.,  0.,  0.,\n",
       "         0.,  0.,  0.,  0.,  0.,  0.,  0.,  0.,  0.,  0.,  0.,  0.,  0.,\n",
       "         0.,  0.,  0.,  0.,  0.,  0.,  0.,  0.,  0.,  0.,  0.,  0.,  0.,\n",
       "         0.,  0.,  0.,  0.,  0.,  0.,  0.,  0.,  0.,  0.,  1.,  0.,  0.,\n",
       "         0.,  0.,  0.,  0.,  0.,  0.,  0.,  0.,  0.,  0.,  0.,  0.,  0.]))"
      ]
     },
     "execution_count": 14,
     "metadata": {},
     "output_type": "execute_result"
    }
   ],
   "source": [
    "c2vec['k']"
   ]
  },
  {
   "cell_type": "code",
   "execution_count": 132,
   "metadata": {
    "collapsed": true
   },
   "outputs": [],
   "source": [
    "vec = []"
   ]
  },
  {
   "cell_type": "code",
   "execution_count": 228,
   "metadata": {
    "collapsed": true
   },
   "outputs": [],
   "source": [
    "def softmax(z):\n",
    "    z = z - np.min(z)\n",
    "    return np.exp(z) / np.sum(np.exp(z))"
   ]
  },
  {
   "cell_type": "code",
   "execution_count": 234,
   "metadata": {
    "collapsed": true
   },
   "outputs": [],
   "source": [
    "def sample(x, h_prev):\n",
    "    inp = np.dot(w_in.get_value(), x)\n",
    "    hidden = inp + (np.dot(w_h.get_value(), h_prev) + b_h.get_value())\n",
    "    output = np.dot(w_out.get_value(), hidden) + b_out.get_value()\n",
    "#     print('Out:')\n",
    "#     print(out)\n",
    "#     print(softmax(out))\n",
    "    output = np.argmax(softmax(output))\n",
    "    cvec = np.zeros(nchars)\n",
    "    cvec[output] = 1\n",
    "    return cvec, hidden"
   ]
  },
  {
   "cell_type": "code",
   "execution_count": null,
   "metadata": {
    "collapsed": true
   },
   "outputs": [],
   "source": [
    "def print_cvec(cvec):\n",
    "    print(chars[np.argmax(cvec)], end='')"
   ]
  },
  {
   "cell_type": "code",
   "execution_count": 236,
   "metadata": {
    "collapsed": false
   },
   "outputs": [],
   "source": [
    "def sample_seq(n, seed_letter):\n",
    "    cvec = c2vec[seed_letter][1]\n",
    "    h_cur = h_0.get_value()\n",
    "    for t in range(n):\n",
    "        print_cvec(cvec)\n",
    "#         print('h: ', end=' ')\n",
    "#         print(h_cur)\n",
    "#         print(cvec)\n",
    "        cvec, h_cur = sample(cvec, h_cur) \n",
    "        \n",
    "    "
   ]
  },
  {
   "cell_type": "code",
   "execution_count": 237,
   "metadata": {
    "collapsed": false
   },
   "outputs": [
    {
     "data": {
      "text/plain": [
       "array([  1.00000000e+000,   5.14820022e-131,   9.32462145e-090])"
      ]
     },
     "execution_count": 237,
     "metadata": {},
     "output_type": "execute_result"
    }
   ],
   "source": [
    "z = np.array([305, 5, 100])\n",
    "softmax(z)"
   ]
  },
  {
   "cell_type": "code",
   "execution_count": 240,
   "metadata": {
    "collapsed": false
   },
   "outputs": [
    {
     "name": "stdout",
     "output_type": "stream",
     "text": [
      "K \n",
      "\n",
      "\n",
      "\n",
      "\n",
      "\n",
      "\n",
      "\n",
      "\n",
      "\n",
      "\n",
      "\n",
      "\n",
      "\n",
      "\n",
      "\n",
      "\n",
      "\n",
      "\n",
      "\n",
      "\n",
      "\n",
      "\n"
     ]
    }
   ],
   "source": [
    "sample_seq(25, 'K')"
   ]
  },
  {
   "cell_type": "code",
   "execution_count": 239,
   "metadata": {
    "collapsed": false
   },
   "outputs": [
    {
     "ename": "TypeError",
     "evalue": "sample() missing 1 required positional argument: 'h_prev'",
     "output_type": "error",
     "traceback": [
      "\u001b[1;31m---------------------------------------------------------------------------\u001b[0m",
      "\u001b[1;31mTypeError\u001b[0m                                 Traceback (most recent call last)",
      "\u001b[1;32m<ipython-input-239-6e484efcfcd1>\u001b[0m in \u001b[0;36m<module>\u001b[1;34m()\u001b[0m\n\u001b[1;32m----> 1\u001b[1;33m \u001b[0msample\u001b[0m\u001b[1;33m(\u001b[0m\u001b[0mc2vec\u001b[0m\u001b[1;33m[\u001b[0m\u001b[1;34m'd'\u001b[0m\u001b[1;33m]\u001b[0m\u001b[1;33m[\u001b[0m\u001b[1;36m1\u001b[0m\u001b[1;33m]\u001b[0m\u001b[1;33m)\u001b[0m\u001b[1;33m\u001b[0m\u001b[0m\n\u001b[0m",
      "\u001b[1;31mTypeError\u001b[0m: sample() missing 1 required positional argument: 'h_prev'"
     ]
    }
   ],
   "source": [
    "sample(c2vec['d'][1])"
   ]
  },
  {
   "cell_type": "code",
   "execution_count": 78,
   "metadata": {
    "collapsed": false
   },
   "outputs": [
    {
     "data": {
      "text/plain": [
       "'t'"
      ]
     },
     "execution_count": 78,
     "metadata": {},
     "output_type": "execute_result"
    }
   ],
   "source": [
    "chars[58]"
   ]
  },
  {
   "cell_type": "code",
   "execution_count": 71,
   "metadata": {
    "collapsed": false
   },
   "outputs": [
    {
     "data": {
      "text/plain": [
       "0"
      ]
     },
     "execution_count": 71,
     "metadata": {},
     "output_type": "execute_result"
    }
   ],
   "source": [
    "np.argmax(np.array([5,0,0,0]))"
   ]
  },
  {
   "cell_type": "code",
   "execution_count": null,
   "metadata": {
    "collapsed": false
   },
   "outputs": [],
   "source": [
    "X[2].shape"
   ]
  },
  {
   "cell_type": "code",
   "execution_count": null,
   "metadata": {
    "collapsed": false
   },
   "outputs": [],
   "source": [
    "fn = theano.function(inputs=[], outputs=h_0)\n",
    "fn()"
   ]
  },
  {
   "cell_type": "code",
   "execution_count": null,
   "metadata": {
    "collapsed": false
   },
   "outputs": [],
   "source": [
    "theano.compile.mode.Mode = 'fast_compile'"
   ]
  },
  {
   "cell_type": "code",
   "execution_count": null,
   "metadata": {
    "collapsed": false,
    "scrolled": true
   },
   "outputs": [],
   "source": [
    "c = T.fmatrix('c')\n",
    "h = T.fmatrix('h')\n",
    "h_new = theano.function(inputs=[c,h], outputs=recurrence(c,h))\n",
    "lob(np.reshape(c2vec['k'][1],(-1,1)).astype('float32'), np.ones((hdim,1)).astype('float32'))"
   ]
  },
  {
   "cell_type": "markdown",
   "metadata": {},
   "source": [
    "### How to convert a 1D into a 2D array"
   ]
  },
  {
   "cell_type": "code",
   "execution_count": null,
   "metadata": {
    "collapsed": false
   },
   "outputs": [],
   "source": [
    "a = c2vec['k'][1]\n",
    "print(a.shape)\n",
    "np.reshape(a, (-1,1)).shape"
   ]
  },
  {
   "cell_type": "code",
   "execution_count": null,
   "metadata": {
    "collapsed": false
   },
   "outputs": [],
   "source": [
    "c2vec['k'][1].shape"
   ]
  },
  {
   "cell_type": "code",
   "execution_count": null,
   "metadata": {
    "collapsed": false
   },
   "outputs": [],
   "source": [
    "# Printouts\n",
    "print('nexamples: {}'.format(nexamples))\n",
    "print('x: \\t\\t{}x{}'.format(xdim, 1))\n",
    "print('W_in: \\t\\t{}x{}'.format(hdim,xdim))\n",
    "print('(W_in)x: \\t{}x{}'.format(hdim,1))\n",
    "print('W_h: \\t\\t{}x{}'.format(hdim, hdim))\n",
    "print('h: \\t\\t{}x{}'.format(hdim, 1))\n",
    "print('W_out: \\t\\t{}x{}'.format(outdim, hdim))"
   ]
  },
  {
   "cell_type": "code",
   "execution_count": null,
   "metadata": {
    "collapsed": false
   },
   "outputs": [],
   "source": []
  },
  {
   "cell_type": "code",
   "execution_count": null,
   "metadata": {
    "collapsed": true
   },
   "outputs": [],
   "source": []
  },
  {
   "cell_type": "code",
   "execution_count": null,
   "metadata": {
    "collapsed": true
   },
   "outputs": [],
   "source": []
  },
  {
 
