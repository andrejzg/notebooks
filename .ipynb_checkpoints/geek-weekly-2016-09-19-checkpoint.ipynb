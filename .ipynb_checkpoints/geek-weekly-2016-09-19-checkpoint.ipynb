{
 "cells": [
  {
   "cell_type": "markdown",
   "metadata": {},
   "source": [
    "## Demystifying Deep Learning"
   ]
  },
  {
   "cell_type": "markdown",
   "metadata": {},
   "source": [
    "The purpose of this presentation is to \n",
    "\n",
    "Theano is a python library for building neural networks. \n",
    "\n",
    "* [Installation instructions](https://webster.bfm.com/Wiki/display/tech/CIM+ADW+Sentiment+Analysis?src=search) for Blackrock Windows systems (scroll down to development environment).\n",
    "\n",
    "**Goals**:\n",
    "* Understand the very basics of Theano\n",
    "* Learn about linear regression and logistic regression\n",
    "* See a neural network"
   ]
  },
  {
   "cell_type": "code",
   "execution_count": 1,
   "metadata": {
    "collapsed": false,
    "scrolled": true
   },
   "outputs": [
    {
     "name": "stderr",
     "output_type": "stream",
     "text": [
      "Using gpu device 0: GeForce GT 750M (CNMeM is disabled, cuDNN not available)\n"
     ]
    }
   ],
   "source": [
    "import theano\n",
    "import theano.tensor as T\n",
    "from theano.printing import pydotprint\n",
    "from IPython.display import Image\n",
    "from theano import pp\n",
    "import numpy as np\n",
    "import matplotlib.pyplot as plt\n",
    "from sklearn import datasets\n",
    "from sklearn.metrics import zero_one_loss\n",
    "%matplotlib inline"
   ]
  },
  {
   "cell_type": "code",
   "execution_count": 10,
   "metadata": {
    "collapsed": false,
    "scrolled": true
   },
   "outputs": [
    {
     "name": "stdout",
     "output_type": "stream",
     "text": [
      "4\n",
      "4\n",
      "7\n"
     ]
    }
   ],
   "source": [
    "x = T.iscalar('x')\n",
    "y = T.iscalar('y')\n",
    "s = x+y\n",
    "s_out = theano.function(inputs=[x,y], outputs=s)\n",
    "\n",
    "print(s.eval({x:2, y:2})) #4\n",
    "print(s.eval({x:1, y:3})) #4\n",
    "print(s_out(3,4)) #7"
   ]
  },
  {
   "cell_type": "code",
   "execution_count": null,
   "metadata": {
    "collapsed": true
   },
   "outputs": [],
   "source": []
  },
  {
   "cell_type": "code",
   "execution_count": 11,
   "metadata": {
    "collapsed": false
   },
   "outputs": [
    {
     "data": {
      "text/plain": [
       "'(x + y)'"
      ]
     },
     "execution_count": 11,
     "metadata": {},
     "output_type": "execute_result"
    }
   ],
   "source": [
    "theano.pp(s)"
   ]
  },
  {
   "cell_type": "code",
   "execution_count": 12,
   "metadata": {
    "collapsed": false
   },
   "outputs": [
    {
     "ename": "RuntimeError",
     "evalue": "Failed to import pydot. You must install pydot and graphviz for `pydotprint` to work.",
     "output_type": "error",
     "traceback": [
      "\u001b[0;31m---------------------------------------------------------------------------\u001b[0m",
      "\u001b[0;31mRuntimeError\u001b[0m                              Traceback (most recent call last)",
      "\u001b[0;32m<ipython-input-12-d5df5d7734fb>\u001b[0m in \u001b[0;36m<module>\u001b[0;34m()\u001b[0m\n\u001b[0;32m----> 1\u001b[0;31m \u001b[0mpydotprint\u001b[0m\u001b[0;34m(\u001b[0m\u001b[0ms\u001b[0m\u001b[0;34m,\u001b[0m \u001b[0;34m'images/graph1.png'\u001b[0m\u001b[0;34m)\u001b[0m\u001b[0;34m\u001b[0m\u001b[0m\n\u001b[0m\u001b[1;32m      2\u001b[0m \u001b[0mImage\u001b[0m\u001b[0;34m(\u001b[0m\u001b[0;34m'images/graph1.png'\u001b[0m\u001b[0;34m,\u001b[0m \u001b[0mwidth\u001b[0m\u001b[0;34m=\u001b[0m\u001b[0;34m'60%'\u001b[0m\u001b[0;34m)\u001b[0m\u001b[0;34m\u001b[0m\u001b[0m\n",
      "\u001b[0;32m/Users/Andrej/anaconda/lib/python3.5/site-packages/theano/printing.py\u001b[0m in \u001b[0;36mpydotprint\u001b[0;34m(fct, outfile, compact, format, with_ids, high_contrast, cond_highlight, colorCodes, max_label_size, scan_graphs, var_with_name_simple, print_output_file, return_image)\u001b[0m\n\u001b[1;32m    727\u001b[0m         \u001b[0mtopo\u001b[0m \u001b[0;34m=\u001b[0m \u001b[0mfct\u001b[0m\u001b[0;34m.\u001b[0m\u001b[0mtoposort\u001b[0m\u001b[0;34m(\u001b[0m\u001b[0;34m)\u001b[0m\u001b[0;34m\u001b[0m\u001b[0m\n\u001b[1;32m    728\u001b[0m     \u001b[0;32mif\u001b[0m \u001b[0;32mnot\u001b[0m \u001b[0mpydot_imported\u001b[0m\u001b[0;34m:\u001b[0m\u001b[0;34m\u001b[0m\u001b[0m\n\u001b[0;32m--> 729\u001b[0;31m         raise RuntimeError(\"Failed to import pydot. You must install pydot\"\n\u001b[0m\u001b[1;32m    730\u001b[0m                            \" and graphviz for `pydotprint` to work.\")\n\u001b[1;32m    731\u001b[0m \u001b[0;34m\u001b[0m\u001b[0m\n",
      "\u001b[0;31mRuntimeError\u001b[0m: Failed to import pydot. You must install pydot and graphviz for `pydotprint` to work."
     ]
    }
   ],
   "source": [
    "pydotprint(s, 'images/graph1.png')\n",
    "Image('images/graph1.png', width='60%')"
   ]
  },
  {
   "cell_type": "markdown",
   "metadata": {},
   "source": [
    "### Gradients in Theano"
   ]
  },
  {
   "cell_type": "code",
   "execution_count": 13,
   "metadata": {
    "collapsed": false
   },
   "outputs": [
    {
     "data": {
      "text/plain": [
       "array(8.0)"
      ]
     },
     "execution_count": 13,
     "metadata": {},
     "output_type": "execute_result"
    }
   ],
   "source": [
    "x = T.dscalar('x')\n",
    "y = x ** 2\n",
    "    \n",
    "gy = T.grad(y, x)    \n",
    "f = theano.function([x], gy)\n",
    "f(4)"
   ]
  },
  {
   "cell_type": "code",
   "execution_count": 3,
   "metadata": {
    "collapsed": false
   },
   "outputs": [
    {
     "data": {
      "text/plain": [
       "array(20.0)"
      ]
     },
     "execution_count": 3,
     "metadata": {},
     "output_type": "execute_result"
    }
   ],
   "source": [
    "x = T.dscalar('x')\n",
    "y = x ** 2\n",
    "dy = T.grad(y, x)\n",
    "f = theano.function([x], dy)\n",
    "f(10)\n"
   ]
  },
  {
   "cell_type": "markdown",
   "metadata": {},
   "source": [
    "### Linear Regression"
   ]
  },
  {
   "cell_type": "code",
   "execution_count": 42,
   "metadata": {
    "collapsed": false
   },
   "outputs": [
    {
     "data": {
      "image/png": "[encoded data removed]",
      "text/plain": [
       "<matplotlib.figure.Figure at 0x117314080>"
      ]
     },
     "metadata": {},
     "output_type": "display_data"
    }
   ],
   "source": [
    "# Generate data y = 2x\n",
    "X = np.asarray([3,4,5,6.1,6.3,2.88,8.89,5.62,6.9,1.97,8.22,9.81,4.83,7.27,5.14,3.08])\n",
    "Y = np.asarray([0.9,1.6,1.9,2.9,1.54,1.43,3.06,2.36,2.3,1.11,2.57,3.15,1.5,2.64,2.20,1.21])\n",
    "\n",
    "plt.scatter(X,Y)\n",
    "plt.show()"
   ]
  },
  {
   "cell_type": "code",
   "execution_count": 57,
   "metadata": {
    "collapsed": false
   },
   "outputs": [
    {
     "name": "stdout",
     "output_type": "stream",
     "text": [
      "Slope :\n",
      "0.280910738192629\n",
      "Intercept :\n",
      "0.46189258156716884\n"
     ]
    }
   ],
   "source": [
    "# x,y pairs \n",
    "x = T.dvector('x')\n",
    "y = T.dvector('y')\n",
    "\n",
    "# Hyperparameters\n",
    "learning_rate = 0.01\n",
    "training_steps = 100\n",
    "num_samples = X.shape[0]\n",
    "\n",
    "# Parameters\n",
    "m_value = np.random.randn()\n",
    "c_value = np.random.randn()\n",
    "m = theano.shared(m_value,name ='m')\n",
    "c = theano.shared(c_value, name='c')\n",
    "\n",
    "# Linear Regression\n",
    "y_pred = T.dot(m,x) + c\n",
    "y_pred_out = theano.function(inputs=[x], outputs=y_pred)\n",
    "loss = T.sum(T.pow(y_pred-y,2))/(2*num_samples) \n",
    "\n",
    "# Gradient\n",
    "dLoss_dm = T.grad(loss, wrt=m) \n",
    "dLoss_dc = T.grad(loss, wrt=c) \n",
    "updates = [(m, m - learning_rate * dLoss_dm),\n",
    "           (c, c - learning_rate * dLoss_dc)]# gradient update\n",
    "\n",
    "# Gradient step\n",
    "gradient_step = theano.function(inputs=[x,y], outputs=loss, updates=updates)\n",
    "\n",
    "# Train\n",
    "for epoch in range(training_steps+1):\n",
    "    for i in range(len(X)):\n",
    "        cur_loss = gradient_step(X, Y)\n",
    "        #print('epoch: {} \\t loss: {}\\tw: {}\\tc:{}'.format(epoch, np.round(cur_loss,2), m.get_value()[0],  np.round(c.get_value(),2)))\n",
    "\n",
    "print(\"Slope :\")\n",
    "print(m.get_value())\n",
    "print(\"Intercept :\")\n",
    "print(c.get_value())"
   ]
  },
  {
   "cell_type": "code",
   "execution_count": null,
   "metadata": {
    "collapsed": true
   },
   "outputs": [],
   "source": [
    "for epoch in range(nepochs):\n",
    "    for i in range(len(X)):\n",
    "        cur_loss = "
   ]
  },
  {
   "cell_type": "code",
   "execution_count": 62,
   "metadata": {
    "collapsed": false
   },
   "outputs": [],
   "source": [
    "m_slope = float(m.get_value())\n",
    "c_intercept = float(c.get_value())"
   ]
  },
  {
   "cell_type": "code",
   "execution_count": 69,
   "metadata": {
    "collapsed": false
   },
   "outputs": [
    {
     "data": {
      "image/png": "[encoded data removed]",
      "text/plain": [
       "<matplotlib.figure.Figure at 0x1173d0da0>"
      ]
     },
     "metadata": {},
     "output_type": "display_data"
    }
   ],
   "source": [
    "def linreg(x):\n",
    "    return m_slope*x + c_intercept\n",
    "\n",
    "\n",
    "xrange = range(1, 11)\n",
    "\n",
    "x = np.array(xrange)  \n",
    "y = linreg(x)  \n",
    "axes = plt.gca()\n",
    "axes.set_xlim([0,11])\n",
    "axes.set_ylim([0,3.5])\n",
    "plt.plot(x, y)\n",
    "plt.scatter(X,Y)\n",
    "plt.show()  \n",
    "\n"
   ]
  },
  {
   "cell_type": "code",
   "execution_count": 12,
   "metadata": {
    "collapsed": false
   },
   "outputs": [
    {
     "name": "stdout",
     "output_type": "stream",
     "text": [
      "The output file is available at images/graph2.png\n"
     ]
    },
    {
     "data": {
      "image/png": "[encoded data removed]",
      "text/plain": [
       "<IPython.core.display.Image object>"
      ]
     },
     "execution_count": 12,
     "metadata": {
      "image/png": {
       "width": "60%"
      }
     },
     "output_type": "execute_result"
    }
   ],
   "source": [
    "pydotprint(y_pred, 'images/graph2.png')\n",
    "Image('images/graph2.png', width='60%')"
   ]
  },
  {
   "cell_type": "code",
   "execution_count": 9,
   "metadata": {
    "collapsed": false
   },
   "outputs": [],
   "source": [
    "# plot it\n",
    "a = np.linspace(0,10,10)\n",
    "b = y_pred_out(a)\n",
    "plt.plot(b,a)\n",
    "plt.grid(True)"
   ]
  },
  {
   "cell_type": "markdown",
   "metadata": {},
   "source": [
    "### Logistic Regression"
   ]
  },
  {
   "cell_type": "code",
   "execution_count": 3,
   "metadata": {
    "collapsed": false
   },
   "outputs": [
    {
     "data": {
      "text/plain": [
       "([], <a list of 0 Text yticklabel objects>)"
      ]
     },
     "execution_count": 3,
     "metadata": {},
     "output_type": "execute_result"
    },
    {
     "data": {
      "image/png": "[encoded data removed]",
      "text/plain": [
       "<matplotlib.figure.Figure at 0x11bcc9e80>"
      ]
     },
     "metadata": {},
     "output_type": "display_data"
    }
   ],
   "source": [
    "# Data\n",
    "iris = datasets.load_iris()\n",
    "X = iris.data[:, :2]  # we only take the first two features.\n",
    "Y = iris.target\n",
    "plt.subplot('111', axisbg='black')\n",
    "plt.scatter(X[:, 0], X[:, 1], c=Y, edgecolors='k', cmap=plt.cm.Set1)\n",
    "plt.xlabel('Sepal length')\n",
    "plt.ylabel('Sepal width')\n",
    "plt.xticks(())\n",
    "plt.yticks(())"
   ]
  },
  {
   "cell_type": "code",
   "execution_count": 78,
   "metadata": {
    "collapsed": false
   },
   "outputs": [
    {
     "name": "stdout",
     "output_type": "stream",
     "text": [
      "epoch: 0\tloss: 4.69e+02\tacc:0.33333\n",
      "epoch: 2000\tloss: -2.87e+05\tacc:0.68667\n",
      "epoch: 4000\tloss: -6.10e+05\tacc:0.78667\n",
      "epoch: 6000\tloss: -9.75e+05\tacc:0.82667\n",
      "epoch: 8000\tloss: -1.39e+06\tacc:0.82667\n",
      "epoch: 10000\tloss: -1.85e+06\tacc:0.82667\n",
      "epoch: 12000\tloss: -2.37e+06\tacc:0.82667\n",
      "epoch: 14000\tloss: -2.96e+06\tacc:0.82667\n"
     ]
    }
   ],
   "source": [
    "x = T.dmatrix('x') \n",
    "y = T.lvector('y')\n",
    "\n",
    "# Data info\n",
    "N = X.shape[0]\n",
    "x_dim = X.shape[1] # example dimensions\n",
    "nclasses = len(set(Y))# number of classes\n",
    "\n",
    "# Hyperparameters\n",
    "learning_rate = 0.001\n",
    "reg_lambda = 0.0001\n",
    "training_steps = 15000\n",
    "    \n",
    "# Parameters\n",
    "W_init = np.matrix(np.random.randn(nclasses, x_dim))\n",
    "b_init = np.zeros(nclasses,)\n",
    "W = theano.shared(value=W_init, name='W', borrow=True)\n",
    "b = theano.shared(value=b_init, name='b', borrow=True)\n",
    "\n",
    "# Model\n",
    "model = T.nnet.softmax((T.dot(W,x)).T + b)\n",
    "model_pred = T.argmax(model, axis=1)\n",
    "\n",
    "# Loss\n",
    "L2 = reg_lambda*T.sum(W**2) + abs(T.sum(W))\n",
    "loss = -T.sum(T.log(model)[T.arange(N), y] + L2)\n",
    "\n",
    "# Gradients\n",
    "dLoss_dW = T.grad(cost=loss, wrt=W) # Gradient of Loss w.r.t parameters\n",
    "dLoss_db = T.grad(cost=loss, wrt=b)\n",
    "\n",
    "# Output functions\n",
    "p_y_given_x = theano.function(inputs=[x], outputs=model)\n",
    "y_pred = theano.function(inputs=[x], outputs=model_pred)\n",
    "updates = [(W, W - learning_rate * dLoss_dW), (b, b - learning_rate * dLoss_db)]\n",
    "train = theano.function(inputs=[x,y], outputs=[model_pred, loss], updates=updates)\n",
    "\n",
    "# Train\n",
    "for i in range(training_steps+1):\n",
    "    pred, loss = train(X_train.T, Y_train)  \n",
    "    acc = 1 - zero_one_loss(Y_train, pred)\n",
    "    if i % 2000 is 0:\n",
    "        print('epoch: {}\\tloss: {:.2e}\\tacc:{}'.format(i, np.round(loss,2), np.round(acc,5)))"
   ]
  },
  {
   "cell_type": "code",
   "execution_count": null,
   "metadata": {
    "collapsed": true
   },
   "outputs": [],
   "source": [
    "updates = [(W, W - learning_rate * dLoss_dW), (b, b - learning_rate * dLoss_db)]\n",
    "tradin = theano.function(inputs=[x,y], outputs=[model_pred, loss], updates=updates)"
   ]
  },
  {
   "cell_type": "code",
   "execution_count": 120,
   "metadata": {
    "collapsed": false
   },
   "outputs": [
    {
     "data": {
      "image/png": "[encoded data removed]",
      "text/plain": [
       "<matplotlib.figure.Figure at 0x1190cd8d0>"
      ]
     },
     "metadata": {},
     "output_type": "display_data"
    }
   ],
   "source": [
    "# Plot the decision boundary. For that, we will assign a color to each\n",
    "# point in the mesh [x_min, m_max]x[y_min, y_max].\n",
    "h = 0.02\n",
    "x_min, x_max = X[:, 0].min() - .5, X[:, 0].max() + .5\n",
    "y_min, y_max = X[:, 1].min() - .5, X[:, 1].max() + .5\n",
    "xx, yy = np.meshgrid(np.arange(x_min, x_max, h), np.arange(y_min, y_max, h))\n",
    "\n",
    "np.c_[xx.ravel(), yy.ravel()][0]\n",
    "Z = y_pred(np.c_[xx.ravel(), yy.ravel()].T)\n",
    "\n",
    "\n",
    "# Put the result into a color plot\n",
    "Z = Z.reshape(xx.shape)\n",
    "plt.figure(1, figsize=(4, 3))\n",
    "plt.pcolormesh(xx, yy, Z, cmap=plt.cm.Set1)\n",
    "\n",
    "# Plot also the training points\n",
    "plt.scatter(X[:, 0], X[:, 1], c=Y, edgecolors='k', cmap=plt.cm.Set1)\n",
    "plt.xlabel('Sepal length')\n",
    "plt.ylabel('Sepal width')\n",
    "\n",
    "plt.xlim(xx.min(), xx.max())\n",
    "plt.ylim(yy.min(), yy.max())\n",
    "plt.xticks(())\n",
    "plt.yticks(())\n",
    "\n",
    "plt.show()"
   ]
  },
  {
   "cell_type": "markdown",
   "metadata": {},
   "source": [
    "### Multi Layer Perceptron"
   ]
  },
  {
   "cell_type": "code",
   "execution_count": 102,
   "metadata": {
    "collapsed": false
   },
   "outputs": [],
   "source": [
    "# data\n",
    "X = np.array([[0,0],[0,1],[1,0],[1,1]])\n",
    "Y = np.array([0,1,1,0])"
   ]
  },
  {
   "cell_type": "code",
   "execution_count": 11,
   "metadata": {
    "collapsed": false
   },
   "outputs": [
    {
     "name": "stdout",
     "output_type": "stream",
     "text": [
      "x: [0 0] y_pred: 0.0\n",
      "x: [0 1] y_pred: 1.0\n",
      "x: [1 0] y_pred: 0.0\n",
      "x: [1 1] y_pred: 1.0\n"
     ]
    }
   ],
   "source": [
    "# data info\n",
    "nclasses = 2\n",
    "x_dim = 2\n",
    "\n",
    "# hyperparameters\n",
    "learning_rate = 0.1\n",
    "training_steps = 5000\n",
    "\n",
    "# input/output vectors\n",
    "x = T.dvector('x')\n",
    "y = T.dscalar('y')\n",
    "\n",
    "# MLP layer\n",
    "def layer(x, w, activation):\n",
    "    b = np.array([1], dtype=theano.config.floatX)\n",
    "    new_x = T.concatenate([x, b])\n",
    "    h = activation(T.dot(w.T, new_x))\n",
    "    return h\n",
    "\n",
    "# parameters\n",
    "W_1 = theano.shared(value=np.array(np.random.rand(x_dim + 1, x_dim + 1), dtype=theano.config.floatX), name='W_1', borrow=True, )\n",
    "W_2 = theano.shared(value=np.array(np.random.rand(4,1), dtype=theano.config.floatX), name='W_2', borrow=True)\n",
    "\n",
    "# model\n",
    "h1 = layer(x, W_1, T.nnet.sigmoid)\n",
    "h2 = layer(h1, W_2, T.nnet.sigmoid)\n",
    "out = T.sum(h2)\n",
    "\n",
    "# loss\n",
    "loss = T.sum(T.pow(out-y,2))/(2*num_samples)\n",
    "\n",
    "# gradients\n",
    "dLoss_dW_1 = T.grad(loss, wrt=W_1)\n",
    "dLoss_dW_2 = T.grad(loss, wrt=W_2)\n",
    "\n",
    "# output functions\n",
    "model_out = theano.function(inputs=[x], outputs=out)\n",
    "model_pred = theano.function(inputs=[x], outputs=T.round(out))\n",
    "model_loss = theano.function(inputs=[out, y], outputs=loss)\n",
    "updates = [(W_1, W_1 - learning_rate * dLoss_dW_1), (W_2, W_2 - learning_rate * dLoss_dW_2)]\n",
    "gradient_step = theano.function(inputs=[x,y], outputs=[loss], updates=updates)\n",
    "\n",
    "# train\n",
    "for epoch in range(training_steps+1):\n",
    "    for i in range(len(X)):\n",
    "        cur_loss = gradient_step(X[i], Y[i])\n",
    "        \n",
    "# predict\n",
    "print('x: {} y_pred: {}'.format(X[0],model_pred(X[0])))\n",
    "print('x: {} y_pred: {}'.format(X[1],model_pred(X[1])))\n",
    "print('x: {} y_pred: {}'.format(X[2],model_pred(X[2])))\n",
    "print('x: {} y_pred: {}'.format(X[3],model_pred(X[3])))"
   ]
  },
  {
   "cell_type": "markdown",
   "metadata": {
    "collapsed": true
   },
   "source": [
    "### Sentiment"
   ]
  },
  {
   "cell_type": "code",
   "execution_count": null,
   "metadata": {
    "collapsed": true
   },
   "outputs": [],
   "source": []
  }
 ],
 "metadata": {
  "anaconda-cloud": {},
  "kernelspec": {
   "display_name": "Python [Root]",
   "language": "python",
   "name": "Python [Root]"
  },
  "language_info": {
   "codemirror_mode": {
    "name": "ipython",
    "version": 3
   },
   "file_extension": ".py",
   "mimetype": "text/x-python",
   "name": "python",
   "nbconvert_exporter": "python",
   "pygments_lexer": "ipython3",
   "version": "3.5.2"
  }
 },
 "nbformat": 4,
 "nbformat_minor": 0
}
