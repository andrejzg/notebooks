{
 "cells": [
  {
   "cell_type": "markdown",
   "metadata": {},
   "source": [
    "# Logistic Regression"
   ]
  },
  {
   "cell_type": "code",
   "execution_count": 4,
   "metadata": {
    "collapsed": false
   },
   "outputs": [],
   "source": [
    "import matplotlib.pyplot as plt\n",
    "import numpy as np\n",
    "import itertools\n",
    "import mpl_toolkits.mplot3d.axes3d  \n",
    "%matplotlib inline\n",
    "import theano\n",
    "from theano import pp, tensor as T\n",
    "from sklearn import datasets\n",
    "from sklearn.metrics import zero_one_loss\n",
    "from IPython.display import Image\n",
    "from IPython.core.display import HTML \n",
    "from decimal import Decimal"
   ]
  },
  {
   "cell_type": "markdown",
   "metadata": {},
   "source": [
    "### The Sigmoid Function\n",
    "\n",
    "The sigmoid function a mathematical function often used in deep learning. \n",
    "\n",
    "$$sigmoid(x) = \\frac{1}{1 + e^{-x}}$$\n",
    "\n",
    "\n",
    "There is no other motivation behind it apart from its useful properties. Lets go over a few of them in turn:\n",
    "\n",
    "* **Its a squashing function:** \n",
    "Given any input $x$, the sigmoid function will return a number $sigmoid(x) \n",
    "\\in (0,1)$. \n",
    "\n",
    "* **Taking its derivative w.r.t. its input is easy:** $sigmoid'(x) = sigmoid(x)(1-sigmoid(x))$\n"
   ]
  },
  {
   "cell_type": "code",
   "execution_count": 5,
   "metadata": {
    "collapsed": false
   },
   "outputs": [
    {
     "data": {
      "image/png": "[encoded data removed]",
      "text/plain": [
       "<matplotlib.figure.Figure at 0x115453128>"
      ]
     },
     "metadata": {},
     "output_type": "display_data"
    }
   ],
   "source": [
    "def sigmoid(x):\n",
    "    return 1 / (1 + np.exp(-x))\n",
    "x = np.arange(-6,6, 0.1)\n",
    "plt.xlabel('x')\n",
    "plt.ylabel('sigmoid(x)')\n",
    "plt.title('The sigmoid function')\n",
    "plt.plot(x, sigmoid(x))\n",
    "plt.grid(True)"
   ]
  },
  {
   "cell_type": "markdown",
   "metadata": {},
   "source": [
    "### Two-Class Logistic Regression\n",
    "\n",
    "Consider a dataset of independent example-label pairs $\\mathcal{D} = \\{ ( \\mathbf{ x^{(1)} } , y^{(1)}), ... ( \\mathbf{ x^{(N)} } , y^{(N)}) \\} $ where each example is a vector: $\\mathbf{x^{(i)}} \\in \\mathbb{R}$; each label is either zero or one: $y \\in \\{0,1\\}$, and our goal is to create a model $M: \\mathbf{x}, \\mathbf{\\theta} \\to y$ which can predict labels given examples. Here $\\mathbf{\\theta}$ denotes the model's parameters - the variables which govern how the model works and which we are allowed to calibrate. During *training* we tweak $\\theta$ so that $M$ best fits the dataset. A model $M$ with well-calibrated parameters should then be able to predict the labels of unseen examples. \n",
    "\n",
    "Two-class logistic regression is a machine learning model capable of learning the conditional probability $p(y=k|\\mathbf{x})$ where k can belong to two and only two different classes. It belongs to the family of generalised linear models (GLM). The simplest member of the GLM family is the simple *linear regression* model where the learning task is to calibrate the parameter vector (also called the weight vector) $\\mathbf{w}$ which governs the directon of the hyperplane $y = \\mathbf{wx} + b$. In *linear regression* y isnt discrete but continous, i.e. $y \\in \\mathbb{R}$. Two-class logistic regression applies the sigmoid function to the linear regression model and thus squahes its ouput to $(0,1)$. The final output of two-class logistic regression is either 0 or 1 depending on whether the squashed output from the linear regressor is above or below 0.5. The use of linear *regression* inside of logistic regression explains why people often get confused with why logistic regression is called logistic *regression* even though it is a classification model.\n",
    "\n",
    "The above paragraph leads us directly to the two-class logistic regression equations: \n",
    "\n",
    "$$p = p(y=1|\\mathbf{x}; \\mathbf{w}) = \\frac{1}{1 + e^{-(\\mathbf{wx} + b)}} = \\frac{e^{\\mathbf{wx} + b}}{1 + e^{\\mathbf{wx} + b}}\\\\ \n",
    "  1 - p = p(y=0|\\mathbf{x}; \\mathbf{w}) = 1 - p(y=1|\\mathbf{x}; \\mathbf{w}) =  \\frac{e^{-(\\mathbf{wx} + b)}}{1 + e^{-(\\mathbf{wx} + b)}}$$\n",
    "\n",
    "Our task is to calibrate the weight vector $\\mathbf{w}$ to make the model fit our data. But how do we do this?\n",
    "\n",
    "**Training**\n",
    "\n",
    "Because our dataset $\\mathcal{D}$ is comprised of independent example-label pairs we can find the likelihood of $\\mathcal{D}$ under our model by multiplying out the outputs of our two-class logistic regression model for each example-label pair:\n",
    "\n",
    "$$\\tag{1} \\mathcal{L}(D;\\mathbf{w}) = \\prod_{i=1}^{N} p^{y_i}(1-p)^{y_i -1} $$\n",
    "\n",
    "We wish to maximise the above but probabilities are always smaller than or equal to 1 which means that the product in (1) might lead to underflow. We therefore consider the negative log likelihood:\n",
    "\n",
    "$$\\tag{2} -log \\mathcal{L} = -\\sum_{i=1}^{N} y_i p + (1-y_i)log(1-p)$$\n",
    "\n",
    "Which we wish to minimise. The logarithm solves the underflow problem and the reason why we consider the *negative* log likelihood is because of tradition - many optimisers only support minimsation. \n",
    "\n",
    "Taking the derivative of (2) with respect to the parameters would allow us to optimise our two-class logistic regression model using gradient descent methods. "
   ]
  },
  {
   "cell_type": "markdown",
   "metadata": {},
   "source": [
    "### The Softmax Function\n",
    "\n",
    "The softmax function is another mathematical function often used in deep learning.\n",
    "\n",
    "$$softmax(\\mathbf{x})_j = \\frac{e^{x_j}}{\\sum_{k=1}^K e^{x_k}}$$ \n",
    "\n",
    "Some of its useful properties include:\n",
    "\n",
    "* **Its a squashing function:** \n",
    "Given any input vector $\\mathbf{x}$, the softmax function will return a vector with each of its components between zero and one, $softmax(\\mathbf{x})_j \\in (0,1),  \\forall j$, and the sum of its components equal to one, $\\sum_{j=1}^J x_j = 1$. \n",
    "\n",
    "* **Taking its derivative w.r.t. its input is easy:** \n",
    "$$\n",
    "\\frac{\\partial softmax(\\mathbf{x})_j}{\\partial x_i}\n",
    "    =\n",
    "\\begin{cases}\n",
    "    softmax(\\mathbf{x})_j (1 - softmax(\\mathbf{x})_j), & \\text{if } i = j\\\\\n",
    "    -softmax(\\mathbf{x})_j softmax(\\mathbf{x})_i,              & \\text{if } i \\neq j\n",
    "\\end{cases}\n",
    "$$\n",
    "\n",
    "#### Relating the Softmax to the Sigmoid Function\n",
    "\n",
    "The softmax function is a generalisation of the sigmoid function to multiple dimensions. If you think about it the softmax is actually overparametarised. Let $\\mathbf{\\psi} = \\begin{bmatrix}\\psi \\\\ \\vdots \\\\ \\psi \\end{bmatrix}$ be a vector of equal dimension to $\\mathbf{x}$, and with all components equal. Then:\n",
    "\n",
    "$$softmax(\\mathbf{x}-\\mathbf{\\psi})_j = \\frac{e^{x_j-\\psi}}{\\sum_{k}e^{x_k - \\psi}} = \\frac{e^{x_j}e^{-\\psi}}{e^{-\\psi}\\sum_k e^{x_k}} = \\frac{e^{x_j}}{\\sum_{k=1}^K e^{x_k}} = softmax(\\mathbf{x})_j$$ \n",
    "\n",
    "To connect this to the sigmoid, consider now a vector $\\mathbf{o} = \\begin{bmatrix}o_1 \\\\ o_2 \\end{bmatrix}$ and let  $\\mathbf{\\psi} = \\begin{bmatrix}o_2 \\\\ o_2 \\end{bmatrix}$. Thus:\n",
    "\n",
    "$$\\tag{3} softmax(\\mathbf{o}-\\mathbf{\\psi})_1 = \\frac{e^{o_1 - o_2}}{e^{o_1 - o_2} + e^{o2 - o2}} =  \\frac{e^{o_1 - o_2}}{1 + e^{o_1 - o_2}}$$\n",
    "\n",
    "Denote $o_1 - o_2$ by $\\bar{o}$ and (3) becomes $sigmoid(\\bar{o}).$\n",
    "\n"
   ]
  },
  {
   "cell_type": "code",
   "execution_count": 6,
   "metadata": {
    "collapsed": true
   },
   "outputs": [],
   "source": [
    "def softmax(z):\n",
    "    return np.exp(z) / np.sum(np.exp(z))"
   ]
  },
  {
   "cell_type": "code",
   "execution_count": 7,
   "metadata": {
    "collapsed": false,
    "scrolled": true
   },
   "outputs": [
    {
     "data": {
      "image/png": "[encoded data removed]",
      "text/plain": [
       "<matplotlib.figure.Figure at 0x115c542e8>"
      ]
     },
     "metadata": {},
     "output_type": "display_data"
    }
   ],
   "source": [
    "datapoints = 300\n",
    "xs = np.linspace(-10, 10, datapoints) # input \n",
    "X1, X2 = np.meshgrid(xs, xs) # generate grid\n",
    "p_y_given_x = np.zeros((datapoints, datapoints, 2)) # initialize output\n",
    "\n",
    "# Fill out p_y_given_x for each combination of x1,x2\n",
    "for i in range(datapoints):\n",
    "    for j in range(datapoints):\n",
    "        p_y_given_x[i,j,:] = softmax(np.asarray([X1[i,j], X2[i,j]]))\n",
    "        \n",
    "# Plot \n",
    "fig = plt.figure()\n",
    "ax = fig.gca(projection='3d')\n",
    "surf = ax.plot_surface(X1, X2, p_y_given_x[:,:,0], linewidth=0, cmap=plt.cm.coolwarm)\n",
    "ax.view_init(elev=30, azim=70)\n",
    "cbar = fig.colorbar(surf)\n",
    "\n",
    "# Labels\n",
    "ax.set_xlabel('$x_1$', fontsize=15)\n",
    "ax.set_ylabel('$x_2$', fontsize=15)\n",
    "ax.set_zlabel('$P(y=1|\\mathbf{x})$', fontsize=15)\n",
    "ax.set_title ('$The softmax function$')\n",
    "cbar.ax.set_ylabel('$P(y=1|\\mathbf{x})$', fontsize=15)\n",
    "\n",
    "# Generate plot\n",
    "plt.grid()\n",
    "plt.show()"
   ]
  },
  {
   "cell_type": "markdown",
   "metadata": {
    "collapsed": true
   },
   "source": [
    "### Multi-class (Softmax) Regression \n",
    "\n",
    "Wheras two-class logistic regression took a linear regressor and applied the sigmoid function to it, multi-class logistic regression (also called softmax regression) takes a linear regressor and applies the softmax function to it:\n",
    "\n",
    "$$\\tag{4} p(y=c|\\mathbf{x},\\mathbf{w_c}, b_c) = \\frac{e^{w_cx + b_c}}{\\sum_{k=1}^K e^{w_kx + b_k}}$$ \n",
    "\n",
    "Notice how the normalizer (the denominator) in the fraction above can be represented as:\n",
    "\n",
    "$$\\sum_k \\left( e^{\\mathbf{Wx+b}} \\right)_k$$ \n",
    "\n",
    "where $\\mathbf{W}$ is a matrix made up of rows of class weight vectors $\\mathbf{w}_k$, $\\mathbf{x}$ is the example vector and $\\mathbf{b}$ is the bias vector made up of bias terms $b_k$ for each class and $e$ is an element wise function. Thus (4) can be rewritten as:\n",
    "\n",
    "$$ p(y=c|\\mathbf{x},\\mathbf{W,b}) = \\frac{e^{\\mathbf{w}_cx + b_c}}{\\sum_k \\left( e^{\\mathbf{Wx+b}} \\right)_k}$$\n",
    "\n",
    "where $\\mathbf{w}_c$ is a weight vector row for class $c$ in weight matrix $W$. To get a vector of class probabilities\n",
    "\n",
    "$$\\tag{6} p(\\mathbf{y}|\\mathbf{x},\\mathbf{W,b}) = \\frac{e^{\\mathbf{Wx+b}}}{\\sum_k \\left( e^{\\mathbf{Wx+b}} \\right)_k}$$ \n",
    "\n",
    "where the division is elementwise. Our final output is the component of (6) with the highest probability, i.e.:\n",
    "\n",
    "$$\\underset{y}{\\arg\\max} p(\\mathbf{y}|\\mathbf{x},\\mathbf{W,b}) $$\n",
    "\n",
    "#### Training\n",
    "\n",
    "Using negative log likelihood:\n",
    "\n",
    "\n",
    "\n",
    "\n"
   ]
  },
  {
   "cell_type": "markdown",
   "metadata": {},
   "source": [
    "### Implementation in Numpy I\n",
    "\n",
    "Enough theory. Time to code up softmax regression. For now let's fix our weight matrix $\\mathbf{W}$ is a matrix of dimensions *number_of_classes x dimension_of_examples* and is made up only of 1's. "
   ]
  },
  {
   "cell_type": "code",
   "execution_count": 8,
   "metadata": {
    "collapsed": false
   },
   "outputs": [
    {
     "name": "stdout",
     "output_type": "stream",
     "text": [
      "class probabilities:\t[ 0.06347118  0.18580501  0.5751075   0.17561632]\n",
      "predicted class: \t2\n"
     ]
    }
   ],
   "source": [
    "# number of classes : 4\n",
    "# dim of examples : 5\n",
    "\n",
    "# Fix our randomness seed\n",
    "np.random.seed(256)\n",
    "\n",
    "# Fix our parameters\n",
    "W = np.random.rand(4,5)\n",
    "b = np.ones(4) * 2\n",
    "\n",
    "# A few examples\n",
    "x1 = np.ones(5)\n",
    "x2 = np.array([0,1,1,9,1])\n",
    "x3 = np.array([1,5,1,7,55])\n",
    "\n",
    "# Run softmax regression on an above example (change code to run on a different example)\n",
    "p_y_given_x = softmax(W.dot(x1) + b)\n",
    "print('{0}{1}'.format('class probabilities:\\t',  p_y_given_x))\n",
    "\n",
    "# Pick the class with the highest probability\n",
    "y_pred = np.argmax(p_y_given_x)\n",
    "print('{0}{1}'.format('predicted class: \\t', y_pred))"
   ]
  },
  {
   "cell_type": "markdown",
   "metadata": {},
   "source": [
    "That was easy! Given fixed parameters finding the correct class was simple. We will return to implementing softmax regression in numpy in *Implementation in Numpy II* where we will figure out various derivatives to help us calibrate our parameters. Next we implement the above but in theano."
   ]
  },
  {
   "cell_type": "markdown",
   "metadata": {},
   "source": [
    "### Implementation in Theano I\n",
    "\n",
    "The big hurdle to overcome in understanding theano is to become comfourtable in symbolic programming. "
   ]
  },
  {
   "cell_type": "code",
   "execution_count": 9,
   "metadata": {
    "collapsed": false
   },
   "outputs": [
    {
     "data": {
      "text/plain": [
       "array(5.0)"
      ]
     },
     "execution_count": 9,
     "metadata": {},
     "output_type": "execute_result"
    }
   ],
   "source": [
    "from theano import tensor as T\n",
    "from theano import function\n",
    "x1 = T.dscalar('x1')\n",
    "x2 = T.dscalar('x2')\n",
    "z = x1 + x2\n",
    "f = function([x1,x2], z)\n",
    "f(2,3)"
   ]
  },
  {
   "cell_type": "code",
   "execution_count": 10,
   "metadata": {
    "collapsed": false
   },
   "outputs": [
    {
     "name": "stdout",
     "output_type": "stream",
     "text": [
      "class probabilities:\t[[ 0.06347118  0.18580501  0.5751075   0.17561632]]\n",
      "predicted class: \t2\n"
     ]
    }
   ],
   "source": [
    "W = T.dmatrix('W')\n",
    "b = T.dvector('b')\n",
    "x = T.dvector('x')\n",
    "\n",
    "# Fix our randomness seed\n",
    "np.random.seed(256)\n",
    "\n",
    "# Fix our parameters\n",
    "W_numpy = np.random.rand(4,5)\n",
    "b_numpy = np.ones(4) * 2\n",
    "\n",
    "theano.shared(W_numpy)\n",
    "    \n",
    "# A few examples\n",
    "x1 = np.ones(5)\n",
    "x2 = np.array([0,1,1,9,1])\n",
    "x3 = np.array([1,5,1,7,55])\n",
    "\n",
    "# Run softmax regression on an above example (change code to run on a different example)\n",
    "p_y_given_x = T.nnet.softmax(T.dot(W,x) + b)\n",
    "f = function([x,W,b], p_y_given_x)\n",
    "class_probabilities = f(x1,W_numpy,b_numpy)\n",
    "print('{0}{1}'.format('class probabilities:\\t',  class_probabilities))\n",
    "\n",
    "# Pick the class with the highest probability\n",
    "y_pred = T.argmax(p_y_given_x)\n",
    "predicted_class = y_pred.eval({p_y_given_x: class_probabilities})\n",
    "print('{0}{1}'.format('predicted class: \\t', predicted_class))"
   ]
  },
  {
   "cell_type": "markdown",
   "metadata": {},
   "source": [
    "#### Shared Variables in Theano"
   ]
  },
  {
   "cell_type": "code",
   "execution_count": 11,
   "metadata": {
    "collapsed": false
   },
   "outputs": [
    {
     "name": "stdout",
     "output_type": "stream",
     "text": [
      "Initial model:\n",
      "W = \n",
      "[[ 0.0457838   0.58612071  0.20323985  0.08424309  0.02599218]\n",
      " [ 0.40293724  0.37871185  0.05284018  0.80535711  0.37964511]\n",
      " [ 0.37707057  0.75042559  0.54439556  0.52317504  0.95428393]\n",
      " [ 0.38390163  0.41209264  0.4110403   0.23205101  0.52400976]]\n",
      "b = \n",
      "[ 2.  2.  2.  2.]\n",
      "[[ 0.06347118  0.18580501  0.5751075   0.17561632]]\n",
      "2\n"
     ]
    }
   ],
   "source": [
    "x_dim = 5 # example dimensions\n",
    "nclasses = 4 # number of classes\n",
    "\n",
    "# Fix our randomness seed\n",
    "np.random.seed(256)\n",
    "\n",
    "# Fix our parameters\n",
    "W_numpy = np.random.rand(nclasses,x_dim)\n",
    "b_numpy = np.ones(nclasses) * 2\n",
    "\n",
    "# A few examples\n",
    "x1 = np.ones(5)\n",
    "x2 = np.array([0,1,1,9,1])\n",
    "x3 = np.array([1,5,1,7,55])\n",
    "\n",
    "W = theano.shared(value=W_numpy, name='W', borrow=True)\n",
    "b = theano.shared(value=b_numpy, name='b', borrow=True)\n",
    "\n",
    "print(\"Initial model:\")\n",
    "print('W = \\n' + str(W.get_value()))\n",
    "print('b = \\n' + str(b.get_value()))\n",
    "\n",
    "# Model\n",
    "model = T.nnet.softmax(T.dot(W,x) + b)\n",
    "\n",
    "p_y_given_x = theano.function(inputs=[x], outputs=model)\n",
    "print(p_y_given_x(x1))\n",
    "\n",
    "model_pred = T.argmax(model)\n",
    "y_pred =theano.function(inputs=[x], outputs=model_pred)\n",
    "print(y_pred(x1))"
   ]
  },
  {
   "cell_type": "markdown",
   "metadata": {
    "collapsed": true
   },
   "source": [
    "#### Training Logistic Regression in Theano"
   ]
  },
  {
   "cell_type": "code",
   "execution_count": 12,
   "metadata": {
    "collapsed": false
   },
   "outputs": [
    {
     "data": {
      "text/plain": [
       "array([0, 2, 3, 1, 0])"
      ]
     },
     "execution_count": 12,
     "metadata": {},
     "output_type": "execute_result"
    }
   ],
   "source": [
    "def load_random_data(N, x_dim, nclasses, seed):\n",
    "    np.random.seed(seed)\n",
    "    Y = np.random.randint(size=N, low=0, high=nclasses)\n",
    "    X = np.random.randn(N, x_dim)\n",
    "    D = (X, Y.astype(int))\n",
    "    return D\n",
    "\n",
    "X,Y = load_random_data(5, 5, 4, 256)\n",
    "Y"
   ]
  },
  {
   "cell_type": "code",
   "execution_count": 19,
   "metadata": {
    "collapsed": false
   },
   "outputs": [
    {
     "name": "stdout",
     "output_type": "stream",
     "text": [
      "epoch: 0\tloss: 4.07e+02\tacc:0.64667\n",
      "epoch: 5000\tloss: -7.87e+05\tacc:0.82\n",
      "epoch: 10000\tloss: -1.85e+06\tacc:0.82667\n",
      "epoch: 15000\tloss: -3.28e+06\tacc:0.82667\n",
      "epoch: 20000\tloss: -5.22e+06\tacc:0.82667\n",
      "epoch: 25000\tloss: -7.83e+06\tacc:0.82667\n",
      "epoch: 30000\tloss: -1.14e+07\tacc:0.82667\n",
      "epoch: 35000\tloss: -1.61e+07\tacc:0.82667\n",
      "epoch: 40000\tloss: -2.26e+07\tacc:0.82667\n",
      "epoch: 45000\tloss: -3.12e+07\tacc:0.82667\n",
      "epoch: 50000\tloss: -4.29e+07\tacc:0.82667\n",
      "epoch: 55000\tloss: -5.88e+07\tacc:0.82\n"
     ]
    },
    {
     "ename": "KeyboardInterrupt",
     "evalue": "",
     "output_type": "error",
     "traceback": [
      "\u001b[0;31m---------------------------------------------------------------------------\u001b[0m",
      "\u001b[0;31mKeyboardInterrupt\u001b[0m                         Traceback (most recent call last)",
      "\u001b[0;32m<ipython-input-19-242febd3b695>\u001b[0m in \u001b[0;36m<module>\u001b[0;34m()\u001b[0m\n\u001b[1;32m     48\u001b[0m \u001b[0;31m# Train\u001b[0m\u001b[0;34m\u001b[0m\u001b[0;34m\u001b[0m\u001b[0m\n\u001b[1;32m     49\u001b[0m \u001b[0;32mfor\u001b[0m \u001b[0mi\u001b[0m \u001b[0;32min\u001b[0m \u001b[0mrange\u001b[0m\u001b[0;34m(\u001b[0m\u001b[0mtraining_steps\u001b[0m\u001b[0;34m+\u001b[0m\u001b[0;36m1\u001b[0m\u001b[0;34m)\u001b[0m\u001b[0;34m:\u001b[0m\u001b[0;34m\u001b[0m\u001b[0m\n\u001b[0;32m---> 50\u001b[0;31m     \u001b[0mpred\u001b[0m\u001b[0;34m,\u001b[0m \u001b[0mloss\u001b[0m \u001b[0;34m=\u001b[0m \u001b[0mtrain\u001b[0m\u001b[0;34m(\u001b[0m\u001b[0mX_train\u001b[0m\u001b[0;34m.\u001b[0m\u001b[0mT\u001b[0m\u001b[0;34m,\u001b[0m \u001b[0mY_train\u001b[0m\u001b[0;34m)\u001b[0m\u001b[0;34m\u001b[0m\u001b[0m\n\u001b[0m\u001b[1;32m     51\u001b[0m     \u001b[0macc\u001b[0m \u001b[0;34m=\u001b[0m \u001b[0;36m1\u001b[0m \u001b[0;34m-\u001b[0m \u001b[0mzero_one_loss\u001b[0m\u001b[0;34m(\u001b[0m\u001b[0mY_train\u001b[0m\u001b[0;34m,\u001b[0m \u001b[0mpred\u001b[0m\u001b[0;34m)\u001b[0m\u001b[0;34m\u001b[0m\u001b[0m\n\u001b[1;32m     52\u001b[0m     \u001b[0;32mif\u001b[0m \u001b[0mi\u001b[0m \u001b[0;34m%\u001b[0m \u001b[0;36m5000\u001b[0m \u001b[0;32mis\u001b[0m \u001b[0;36m0\u001b[0m\u001b[0;34m:\u001b[0m\u001b[0;34m\u001b[0m\u001b[0m\n",
      "\u001b[0;32m/Users/Andrej/anaconda/lib/python3.5/site-packages/theano/compile/function_module.py\u001b[0m in \u001b[0;36m__call__\u001b[0;34m(self, *args, **kwargs)\u001b[0m\n\u001b[1;32m    857\u001b[0m         \u001b[0mt0_fn\u001b[0m \u001b[0;34m=\u001b[0m \u001b[0mtime\u001b[0m\u001b[0;34m.\u001b[0m\u001b[0mtime\u001b[0m\u001b[0;34m(\u001b[0m\u001b[0;34m)\u001b[0m\u001b[0;34m\u001b[0m\u001b[0m\n\u001b[1;32m    858\u001b[0m         \u001b[0;32mtry\u001b[0m\u001b[0;34m:\u001b[0m\u001b[0;34m\u001b[0m\u001b[0m\n\u001b[0;32m--> 859\u001b[0;31m             \u001b[0moutputs\u001b[0m \u001b[0;34m=\u001b[0m \u001b[0mself\u001b[0m\u001b[0;34m.\u001b[0m\u001b[0mfn\u001b[0m\u001b[0;34m(\u001b[0m\u001b[0;34m)\u001b[0m\u001b[0;34m\u001b[0m\u001b[0m\n\u001b[0m\u001b[1;32m    860\u001b[0m         \u001b[0;32mexcept\u001b[0m \u001b[0mException\u001b[0m\u001b[0;34m:\u001b[0m\u001b[0;34m\u001b[0m\u001b[0m\n\u001b[1;32m    861\u001b[0m             \u001b[0;32mif\u001b[0m \u001b[0mhasattr\u001b[0m\u001b[0;34m(\u001b[0m\u001b[0mself\u001b[0m\u001b[0;34m.\u001b[0m\u001b[0mfn\u001b[0m\u001b[0;34m,\u001b[0m \u001b[0;34m'position_of_error'\u001b[0m\u001b[0;34m)\u001b[0m\u001b[0;34m:\u001b[0m\u001b[0;34m\u001b[0m\u001b[0m\n",
      "\u001b[0;32m/Users/Andrej/anaconda/lib/python3.5/site-packages/theano/gof/op.py\u001b[0m in \u001b[0;36mrval\u001b[0;34m(p, i, o, n)\u001b[0m\n\u001b[1;32m    910\u001b[0m             \u001b[0;31m# default arguments are stored in the closure of `rval`\u001b[0m\u001b[0;34m\u001b[0m\u001b[0;34m\u001b[0m\u001b[0m\n\u001b[1;32m    911\u001b[0m             \u001b[0;32mdef\u001b[0m \u001b[0mrval\u001b[0m\u001b[0;34m(\u001b[0m\u001b[0mp\u001b[0m\u001b[0;34m=\u001b[0m\u001b[0mp\u001b[0m\u001b[0;34m,\u001b[0m \u001b[0mi\u001b[0m\u001b[0;34m=\u001b[0m\u001b[0mnode_input_storage\u001b[0m\u001b[0;34m,\u001b[0m \u001b[0mo\u001b[0m\u001b[0;34m=\u001b[0m\u001b[0mnode_output_storage\u001b[0m\u001b[0;34m,\u001b[0m \u001b[0mn\u001b[0m\u001b[0;34m=\u001b[0m\u001b[0mnode\u001b[0m\u001b[0;34m)\u001b[0m\u001b[0;34m:\u001b[0m\u001b[0;34m\u001b[0m\u001b[0m\n\u001b[0;32m--> 912\u001b[0;31m                 \u001b[0mr\u001b[0m \u001b[0;34m=\u001b[0m \u001b[0mp\u001b[0m\u001b[0;34m(\u001b[0m\u001b[0mn\u001b[0m\u001b[0;34m,\u001b[0m \u001b[0;34m[\u001b[0m\u001b[0mx\u001b[0m\u001b[0;34m[\u001b[0m\u001b[0;36m0\u001b[0m\u001b[0;34m]\u001b[0m \u001b[0;32mfor\u001b[0m \u001b[0mx\u001b[0m \u001b[0;32min\u001b[0m \u001b[0mi\u001b[0m\u001b[0;34m]\u001b[0m\u001b[0;34m,\u001b[0m \u001b[0mo\u001b[0m\u001b[0;34m)\u001b[0m\u001b[0;34m\u001b[0m\u001b[0m\n\u001b[0m\u001b[1;32m    913\u001b[0m                 \u001b[0;32mfor\u001b[0m \u001b[0mo\u001b[0m \u001b[0;32min\u001b[0m \u001b[0mnode\u001b[0m\u001b[0;34m.\u001b[0m\u001b[0moutputs\u001b[0m\u001b[0;34m:\u001b[0m\u001b[0;34m\u001b[0m\u001b[0m\n\u001b[1;32m    914\u001b[0m                     \u001b[0mcompute_map\u001b[0m\u001b[0;34m[\u001b[0m\u001b[0mo\u001b[0m\u001b[0;34m]\u001b[0m\u001b[0;34m[\u001b[0m\u001b[0;36m0\u001b[0m\u001b[0;34m]\u001b[0m \u001b[0;34m=\u001b[0m \u001b[0;32mTrue\u001b[0m\u001b[0;34m\u001b[0m\u001b[0m\n",
      "\u001b[0;32m/Users/Andrej/anaconda/lib/python3.5/site-packages/theano/tensor/subtensor.py\u001b[0m in \u001b[0;36mperform\u001b[0;34m(self, node, inputs, out_)\u001b[0m\n\u001b[1;32m   2164\u001b[0m         \u001b[0;31m# TODO: in general, we need to re-pack the inputs into a valid\u001b[0m\u001b[0;34m\u001b[0m\u001b[0;34m\u001b[0m\u001b[0m\n\u001b[1;32m   2165\u001b[0m         \u001b[0;31m# index, just like subtensor\u001b[0m\u001b[0;34m\u001b[0m\u001b[0;34m\u001b[0m\u001b[0m\n\u001b[0;32m-> 2166\u001b[0;31m         \u001b[0mout\u001b[0m\u001b[0;34m[\u001b[0m\u001b[0;36m0\u001b[0m\u001b[0;34m]\u001b[0m \u001b[0;34m=\u001b[0m \u001b[0minputs\u001b[0m\u001b[0;34m[\u001b[0m\u001b[0;36m0\u001b[0m\u001b[0;34m]\u001b[0m\u001b[0;34m.\u001b[0m\u001b[0m__getitem__\u001b[0m\u001b[0;34m(\u001b[0m\u001b[0minputs\u001b[0m\u001b[0;34m[\u001b[0m\u001b[0;36m1\u001b[0m\u001b[0;34m:\u001b[0m\u001b[0;34m]\u001b[0m\u001b[0;34m)\u001b[0m\u001b[0;34m\u001b[0m\u001b[0m\n\u001b[0m\u001b[1;32m   2167\u001b[0m         if (numpy.__version__ <= '1.6.1' and\n\u001b[1;32m   2168\u001b[0m                 out[0].size != numpy.uint32(out[0].size)):\n",
      "\u001b[0;31mKeyboardInterrupt\u001b[0m: "
     ]
    }
   ],
   "source": [
    "# Data\n",
    "# X,Y = load_random_data(N, x_dim, nclasses, 256)\n",
    "iris = datasets.load_iris()\n",
    "X = iris.data[:, :2]  # we only take the first two features.\n",
    "Y = iris.target\n",
    "\n",
    "split = int(1*X.shape[0])\n",
    "X_train = X[0:split]\n",
    "Y_train = Y[0:split]\n",
    "X_test = X[split+1:X.shape[0]]\n",
    "Y_test = X[split+1:X.shape[0]]\n",
    "\n",
    "x = T.dmatrix('x') \n",
    "y = T.lvector('y')\n",
    "\n",
    "# Hyperparams\n",
    "N = X_train.shape[0]\n",
    "x_dim = X_train.shape[1] # example dimensions\n",
    "nclasses = len(set(Y))# number of classes\n",
    "learning_rate = 0.001\n",
    "reg_lambda = 0.0001\n",
    "training_steps = 150000\n",
    "    \n",
    "# Parameters\n",
    "W_init = np.matrix(np.random.randn(nclasses, x_dim))\n",
    "b_init = np.zeros(nclasses,)\n",
    "W = theano.shared(value=W_init, name='W', borrow=True)\n",
    "b = theano.shared(value=b_init, name='b', borrow=True)\n",
    "\n",
    "# Model\n",
    "model = T.nnet.softmax((T.dot(W,x)).T + b)\n",
    "model_pred = T.argmax(model, axis=1)\n",
    "\n",
    "# Loss\n",
    "L2 = reg_lambda*T.sum(W**2) + abs(T.sum(W))\n",
    "loss = -T.sum(T.log(model)[T.arange(N), y] + L2)\n",
    "\n",
    "# Gradients\n",
    "dLoss_dW = T.grad(cost=loss, wrt=W) # Gradient of Loss w.r.t parameters\n",
    "dLoss_db = T.grad(cost=loss, wrt=b)\n",
    "\n",
    "# Output functions\n",
    "p_y_given_x = theano.function(inputs=[x], outputs=model)\n",
    "y_pred = theano.function(inputs=[x], outputs=model_pred)\n",
    "updates = [(W, W - learning_rate * dLoss_dW), (b, b - learning_rate * dLoss_db)]\n",
    "train = theano.function(inputs=[x,y], outputs=[model_pred, loss], updates=updates)\n",
    "\n",
    "# Train\n",
    "for i in range(training_steps+1):\n",
    "    pred, loss = train(X_train.T, Y_train)  \n",
    "    acc = 1 - zero_one_loss(Y_train, pred)\n",
    "    if i % 5000 is 0:\n",
    "        print('epoch: {}\\tloss: {:.2e}\\tacc:{}'.format(i, np.round(loss,2), np.round(acc,5)))"
   ]
  },
  {
   "cell_type": "markdown",
   "metadata": {
    "collapsed": true
   },
   "source": [
    "#### Regularisation"
   ]
  },
  {
   "cell_type": "code",
   "execution_count": 1,
   "metadata": {
    "collapsed": false
   },
   "outputs": [
    {
     "ename": "NameError",
     "evalue": "name 'datasets' is not defined",
     "output_type": "error",
     "traceback": [
      "\u001b[0;31m---------------------------------------------------------------------------\u001b[0m",
      "\u001b[0;31mNameError\u001b[0m                                 Traceback (most recent call last)",
      "\u001b[0;32m<ipython-input-1-8f445d20a525>\u001b[0m in \u001b[0;36m<module>\u001b[0;34m()\u001b[0m\n\u001b[1;32m      1\u001b[0m \u001b[0;31m# Data\u001b[0m\u001b[0;34m\u001b[0m\u001b[0;34m\u001b[0m\u001b[0m\n\u001b[1;32m      2\u001b[0m \u001b[0;31m# X,Y = load_random_data(N, x_dim, nclasses, 256)\u001b[0m\u001b[0;34m\u001b[0m\u001b[0;34m\u001b[0m\u001b[0m\n\u001b[0;32m----> 3\u001b[0;31m \u001b[0miris\u001b[0m \u001b[0;34m=\u001b[0m \u001b[0mdatasets\u001b[0m\u001b[0;34m.\u001b[0m\u001b[0mload_iris\u001b[0m\u001b[0;34m(\u001b[0m\u001b[0;34m)\u001b[0m\u001b[0;34m\u001b[0m\u001b[0m\n\u001b[0m\u001b[1;32m      4\u001b[0m \u001b[0mzips\u001b[0m \u001b[0;34m=\u001b[0m \u001b[0mzip\u001b[0m\u001b[0;34m(\u001b[0m\u001b[0miris\u001b[0m\u001b[0;34m.\u001b[0m\u001b[0mtarget\u001b[0m\u001b[0;34m,\u001b[0m\u001b[0miris\u001b[0m\u001b[0;34m.\u001b[0m\u001b[0mdata\u001b[0m\u001b[0;34m)\u001b[0m\u001b[0;34m\u001b[0m\u001b[0m\n\u001b[1;32m      5\u001b[0m \u001b[0mnp\u001b[0m\u001b[0;34m.\u001b[0m\u001b[0mrandom\u001b[0m\u001b[0;34m.\u001b[0m\u001b[0mshuffle\u001b[0m\u001b[0;34m(\u001b[0m\u001b[0mzips\u001b[0m\u001b[0;34m)\u001b[0m\u001b[0;34m\u001b[0m\u001b[0m\n",
      "\u001b[0;31mNameError\u001b[0m: name 'datasets' is not defined"
     ]
    }
   ],
   "source": [
    "# Data\n",
    "# X,Y = load_random_data(N, x_dim, nclasses, 256)\n",
    "iris = datasets.load_iris()\n",
    "zips = zip(iris.target, iris.data)\n",
    "np.random.shuffle(zips)\n",
    "X = target = [t for t,d in zips]\n",
    "Y = data = [d for t,d in zips]\n",
    "\n",
    "X = iris.data[:, :2]  # we only take the first two features.\n",
    "Y = iris.target\n",
    "\n",
    "split = int(0.8*X.shape[0])\n",
    "X_train = X[0:split]\n",
    "Y_train = Y[0:split]\n",
    "X_test = X[split+1:X.shape[0]]\n",
    "Y_test = X[split+1:X.shape[0]]\n",
    "\n",
    "x = T.dmatrix('x') \n",
    "y = T.lvector('y')\n",
    "\n",
    "# Hyperparams\n",
    "N = X_train.shape[0]\n",
    "x_dim = X_train.shape[1] # example dimensions\n",
    "nclasses = len(set(Y))# number of classes\n",
    "learning_rate = 0.001\n",
    "training_steps = 100000\n",
    "    \n",
    "# Parameters\n",
    "W_init = np.matrix(np.random.randn(nclasses, x_dim))\n",
    "b_init = np.zeros(nclasses,)\n",
    "W = theano.shared(value=W_init, name='W', borrow=True)\n",
    "b = theano.shared(value=b_init, name='b', borrow=True)\n",
    "\n",
    "# Model\n",
    "model = T.nnet.softmax((T.dot(W,x)).T + b)\n",
    "model_pred = T.argmax(model, axis=1)\n",
    "loss = -T.sum(T.log(model)[T.arange(N), y])\n",
    "dLoss_dW = T.grad(cost=loss, wrt=W) # Gradient of Loss w.r.t parameters\n",
    "dLoss_db = T.grad(cost=loss, wrt=b)\n",
    "\n",
    "# Output functions\n",
    "p_y_given_x = theano.function(inputs=[x], outputs=model)\n",
    "y_pred = theano.function(inputs=[x], outputs=model_pred)\n",
    "updates = [(W, W - learning_rate * dLoss_dW), (b, b - learning_rate * dLoss_db)]\n",
    "train = theano.function(inputs=[x,y], outputs=[model_pred, loss], updates=updates)\n",
    "\n",
    "# Train\n",
    "for i in range(training_steps+1):\n",
    "    pred, err = train(X_train.T, Y_train)  \n",
    "    acc = 1 - zero_one_loss(Y_train, pred)\n",
    "    if i % 1000 is 0:\n",
    "        print('epoch: {0}\\terr: {1}\\tacc:{2}'.format(i, np.round(err,2), acc))"
   ]
  },
  {
   "cell_type": "code",
   "execution_count": 18,
   "metadata": {
    "collapsed": false
   },
   "outputs": [
    {
     "data": {
      "text/plain": [
       "0.80666666666666664"
      ]
     },
     "execution_count": 18,
     "metadata": {},
     "output_type": "execute_result"
    }
   ],
   "source": [
    "# Code source: Gaël Varoquaux\n",
    "# Modified for documentation by Jaques Grobler\n",
    "# License: BSD 3 clause\n",
    "\n",
    "import numpy as np\n",
    "import matplotlib.pyplot as plt\n",
    "from sklearn import linear_model, datasets\n",
    "\n",
    "# import some data to play with\n",
    "iris = datasets.load_iris()\n",
    "X = iris.data[:, :2]  # we only take the first two features.\n",
    "Y = iris.target\n",
    "\n",
    "h = .02  # step size in the mesh\n",
    "\n",
    "logreg = linear_model.LogisticRegression(C=10000)\n",
    "\n",
    "# we create an instance of Neighbours Classifier and fit the data.\n",
    "logreg.fit(X, Y)\n",
    "\n",
    "logreg.score(X, Y)\n",
    "\n"
   ]
  },
  {
   "cell_type": "code",
   "execution_count": 6,
   "metadata": {
    "collapsed": false
   },
   "outputs": [
    {
     "ename": "IndexError",
     "evalue": "index out of bounds\nApply node that caused the error: Subtensor{int64}(forall_inplace,cpu,scan_fn}.0, ScalarFromTensor.0)\nToposort index: 14\nInputs types: [TensorType(float64, matrix), Scalar(int64)]\nInputs shapes: [(2, 10), ()]\nInputs strides: [(80, 8), ()]\nInputs values: ['not shown', 3]\nOutputs clients: [['output']]\n\nHINT: Re-running with most Theano optimization disabled could give you a back-trace of when this node was created. This can be done with by setting the Theano flag 'optimizer=fast_compile'. If that does not work, Theano optimizations can be disabled with 'optimizer=None'.\nHINT: Use the Theano flag 'exception_verbosity=high' for a debugprint and storage map footprint of this apply node.",
     "output_type": "error",
     "traceback": [
      "\u001b[1;31m---------------------------------------------------------------------------\u001b[0m",
      "\u001b[1;31mIndexError\u001b[0m                                Traceback (most recent call last)",
      "\u001b[1;32mC:\\BLKDeveloper\\tools\\Anaconda3\\envs\\py34\\lib\\site-packages\\theano\\compile\\function_module.py\u001b[0m in \u001b[0;36m__call__\u001b[1;34m(self, *args, **kwargs)\u001b[0m\n\u001b[0;32m    865\u001b[0m             \u001b[0moutputs\u001b[0m \u001b[1;33m=\u001b[0m\u001b[0;31m\\\u001b[0m\u001b[1;33m\u001b[0m\u001b[0m\n\u001b[1;32m--> 866\u001b[1;33m                 \u001b[0mself\u001b[0m\u001b[1;33m.\u001b[0m\u001b[0mfn\u001b[0m\u001b[1;33m(\u001b[0m\u001b[1;33m)\u001b[0m \u001b[1;32mif\u001b[0m \u001b[0moutput_subset\u001b[0m \u001b[1;32mis\u001b[0m \u001b[1;32mNone\u001b[0m \u001b[1;32melse\u001b[0m\u001b[0;31m\\\u001b[0m\u001b[1;33m\u001b[0m\u001b[0m\n\u001b[0m\u001b[0;32m    867\u001b[0m                 \u001b[0mself\u001b[0m\u001b[1;33m.\u001b[0m\u001b[0mfn\u001b[0m\u001b[1;33m(\u001b[0m\u001b[0moutput_subset\u001b[0m\u001b[1;33m=\u001b[0m\u001b[0moutput_subset\u001b[0m\u001b[1;33m)\u001b[0m\u001b[1;33m\u001b[0m\u001b[0m\n",
      "\u001b[1;31mIndexError\u001b[0m: index out of bounds",
      "\nDuring handling of the above exception, another exception occurred:\n",
      "\u001b[1;31mIndexError\u001b[0m                                Traceback (most recent call last)",
      "\u001b[1;32m<ipython-input-6-d5acc3e7c2ee>\u001b[0m in \u001b[0;36m<module>\u001b[1;34m()\u001b[0m\n\u001b[0;32m     19\u001b[0m \u001b[0mpower\u001b[0m \u001b[1;33m=\u001b[0m \u001b[0mtheano\u001b[0m\u001b[1;33m.\u001b[0m\u001b[0mfunction\u001b[0m\u001b[1;33m(\u001b[0m\u001b[0minputs\u001b[0m\u001b[1;33m=\u001b[0m\u001b[1;33m[\u001b[0m\u001b[0mA\u001b[0m\u001b[1;33m,\u001b[0m\u001b[0mk\u001b[0m\u001b[1;33m]\u001b[0m\u001b[1;33m,\u001b[0m \u001b[0moutputs\u001b[0m\u001b[1;33m=\u001b[0m\u001b[0mfinal_result\u001b[0m\u001b[1;33m,\u001b[0m \u001b[0mupdates\u001b[0m\u001b[1;33m=\u001b[0m\u001b[0mupdates\u001b[0m\u001b[1;33m)\u001b[0m\u001b[1;33m\u001b[0m\u001b[0m\n\u001b[0;32m     20\u001b[0m \u001b[1;33m\u001b[0m\u001b[0m\n\u001b[1;32m---> 21\u001b[1;33m \u001b[0mprint\u001b[0m\u001b[1;33m(\u001b[0m\u001b[0mpower\u001b[0m\u001b[1;33m(\u001b[0m\u001b[0mrange\u001b[0m\u001b[1;33m(\u001b[0m\u001b[1;36m10\u001b[0m\u001b[1;33m)\u001b[0m\u001b[1;33m,\u001b[0m\u001b[1;36m2\u001b[0m\u001b[1;33m)\u001b[0m\u001b[1;33m)\u001b[0m\u001b[1;33m\u001b[0m\u001b[0m\n\u001b[0m\u001b[0;32m     22\u001b[0m \u001b[0mprint\u001b[0m\u001b[1;33m(\u001b[0m\u001b[0mpower\u001b[0m\u001b[1;33m(\u001b[0m\u001b[0mrange\u001b[0m\u001b[1;33m(\u001b[0m\u001b[1;36m10\u001b[0m\u001b[1;33m)\u001b[0m\u001b[1;33m,\u001b[0m\u001b[1;36m4\u001b[0m\u001b[1;33m)\u001b[0m\u001b[1;33m)\u001b[0m\u001b[1;33m\u001b[0m\u001b[0m\n",
      "\u001b[1;32mC:\\BLKDeveloper\\tools\\Anaconda3\\envs\\py34\\lib\\site-packages\\theano\\compile\\function_module.py\u001b[0m in \u001b[0;36m__call__\u001b[1;34m(self, *args, **kwargs)\u001b[0m\n\u001b[0;32m    877\u001b[0m                     \u001b[0mnode\u001b[0m\u001b[1;33m=\u001b[0m\u001b[0mself\u001b[0m\u001b[1;33m.\u001b[0m\u001b[0mfn\u001b[0m\u001b[1;33m.\u001b[0m\u001b[0mnodes\u001b[0m\u001b[1;33m[\u001b[0m\u001b[0mself\u001b[0m\u001b[1;33m.\u001b[0m\u001b[0mfn\u001b[0m\u001b[1;33m.\u001b[0m\u001b[0mposition_of_error\u001b[0m\u001b[1;33m]\u001b[0m\u001b[1;33m,\u001b[0m\u001b[1;33m\u001b[0m\u001b[0m\n\u001b[0;32m    878\u001b[0m                     \u001b[0mthunk\u001b[0m\u001b[1;33m=\u001b[0m\u001b[0mthunk\u001b[0m\u001b[1;33m,\u001b[0m\u001b[1;33m\u001b[0m\u001b[0m\n\u001b[1;32m--> 879\u001b[1;33m                     storage_map=getattr(self.fn, 'storage_map', None))\n\u001b[0m\u001b[0;32m    880\u001b[0m             \u001b[1;32melse\u001b[0m\u001b[1;33m:\u001b[0m\u001b[1;33m\u001b[0m\u001b[0m\n\u001b[0;32m    881\u001b[0m                 \u001b[1;31m# old-style linkers raise their own exceptions\u001b[0m\u001b[1;33m\u001b[0m\u001b[1;33m\u001b[0m\u001b[0m\n",
      "\u001b[1;32mC:\\BLKDeveloper\\tools\\Anaconda3\\envs\\py34\\lib\\site-packages\\theano\\gof\\link.py\u001b[0m in \u001b[0;36mraise_with_op\u001b[1;34m(node, thunk, exc_info, storage_map)\u001b[0m\n\u001b[0;32m    323\u001b[0m         \u001b[1;31m# extra long error message in that case.\u001b[0m\u001b[1;33m\u001b[0m\u001b[1;33m\u001b[0m\u001b[0m\n\u001b[0;32m    324\u001b[0m         \u001b[1;32mpass\u001b[0m\u001b[1;33m\u001b[0m\u001b[0m\n\u001b[1;32m--> 325\u001b[1;33m     \u001b[0mreraise\u001b[0m\u001b[1;33m(\u001b[0m\u001b[0mexc_type\u001b[0m\u001b[1;33m,\u001b[0m \u001b[0mexc_value\u001b[0m\u001b[1;33m,\u001b[0m \u001b[0mexc_trace\u001b[0m\u001b[1;33m)\u001b[0m\u001b[1;33m\u001b[0m\u001b[0m\n\u001b[0m\u001b[0;32m    326\u001b[0m \u001b[1;33m\u001b[0m\u001b[0m\n\u001b[0;32m    327\u001b[0m \u001b[1;33m\u001b[0m\u001b[0m\n",
      "\u001b[1;32mC:\\BLKDeveloper\\tools\\Anaconda3\\envs\\py34\\lib\\site-packages\\six.py\u001b[0m in \u001b[0;36mreraise\u001b[1;34m(tp, value, tb)\u001b[0m\n\u001b[0;32m    683\u001b[0m             \u001b[0mvalue\u001b[0m \u001b[1;33m=\u001b[0m \u001b[0mtp\u001b[0m\u001b[1;33m(\u001b[0m\u001b[1;33m)\u001b[0m\u001b[1;33m\u001b[0m\u001b[0m\n\u001b[0;32m    684\u001b[0m         \u001b[1;32mif\u001b[0m \u001b[0mvalue\u001b[0m\u001b[1;33m.\u001b[0m\u001b[0m__traceback__\u001b[0m \u001b[1;32mis\u001b[0m \u001b[1;32mnot\u001b[0m \u001b[0mtb\u001b[0m\u001b[1;33m:\u001b[0m\u001b[1;33m\u001b[0m\u001b[0m\n\u001b[1;32m--> 685\u001b[1;33m             \u001b[1;32mraise\u001b[0m \u001b[0mvalue\u001b[0m\u001b[1;33m.\u001b[0m\u001b[0mwith_traceback\u001b[0m\u001b[1;33m(\u001b[0m\u001b[0mtb\u001b[0m\u001b[1;33m)\u001b[0m\u001b[1;33m\u001b[0m\u001b[0m\n\u001b[0m\u001b[0;32m    686\u001b[0m         \u001b[1;32mraise\u001b[0m \u001b[0mvalue\u001b[0m\u001b[1;33m\u001b[0m\u001b[0m\n\u001b[0;32m    687\u001b[0m \u001b[1;33m\u001b[0m\u001b[0m\n",
      "\u001b[1;32mC:\\BLKDeveloper\\tools\\Anaconda3\\envs\\py34\\lib\\site-packages\\theano\\compile\\function_module.py\u001b[0m in \u001b[0;36m__call__\u001b[1;34m(self, *args, **kwargs)\u001b[0m\n\u001b[0;32m    864\u001b[0m         \u001b[1;32mtry\u001b[0m\u001b[1;33m:\u001b[0m\u001b[1;33m\u001b[0m\u001b[0m\n\u001b[0;32m    865\u001b[0m             \u001b[0moutputs\u001b[0m \u001b[1;33m=\u001b[0m\u001b[0;31m\\\u001b[0m\u001b[1;33m\u001b[0m\u001b[0m\n\u001b[1;32m--> 866\u001b[1;33m                 \u001b[0mself\u001b[0m\u001b[1;33m.\u001b[0m\u001b[0mfn\u001b[0m\u001b[1;33m(\u001b[0m\u001b[1;33m)\u001b[0m \u001b[1;32mif\u001b[0m \u001b[0moutput_subset\u001b[0m \u001b[1;32mis\u001b[0m \u001b[1;32mNone\u001b[0m \u001b[1;32melse\u001b[0m\u001b[0;31m\\\u001b[0m\u001b[1;33m\u001b[0m\u001b[0m\n\u001b[0m\u001b[0;32m    867\u001b[0m                 \u001b[0mself\u001b[0m\u001b[1;33m.\u001b[0m\u001b[0mfn\u001b[0m\u001b[1;33m(\u001b[0m\u001b[0moutput_subset\u001b[0m\u001b[1;33m=\u001b[0m\u001b[0moutput_subset\u001b[0m\u001b[1;33m)\u001b[0m\u001b[1;33m\u001b[0m\u001b[0m\n\u001b[0;32m    868\u001b[0m         \u001b[1;32mexcept\u001b[0m \u001b[0mException\u001b[0m\u001b[1;33m:\u001b[0m\u001b[1;33m\u001b[0m\u001b[0m\n",
      "\u001b[1;31mIndexError\u001b[0m: index out of bounds\nApply node that caused the error: Subtensor{int64}(forall_inplace,cpu,scan_fn}.0, ScalarFromTensor.0)\nToposort index: 14\nInputs types: [TensorType(float64, matrix), Scalar(int64)]\nInputs shapes: [(2, 10), ()]\nInputs strides: [(80, 8), ()]\nInputs values: ['not shown', 3]\nOutputs clients: [['output']]\n\nHINT: Re-running with most Theano optimization disabled could give you a back-trace of when this node was created. This can be done with by setting the Theano flag 'optimizer=fast_compile'. If that does not work, Theano optimizations can be disabled with 'optimizer=None'.\nHINT: Use the Theano flag 'exception_verbosity=high' for a debugprint and storage map footprint of this apply node."
     ]
    }
   ],
   "source": [
    "import theano\n",
    "import theano.tensor as T\n",
    "\n",
    "k = T.iscalar(\"k\")\n",
    "A = T.vector(\"A\")\n",
    "\n",
    "# Symbolic description of the result\n",
    "result, updates = theano.scan(fn=lambda prior_result, A: prior_result * A,\n",
    "                              outputs_info=T.ones_like(A),\n",
    "                              non_sequences=A,\n",
    "                              n_steps=k)\n",
    "\n",
    "# We only care about A**k, but scan has provided us with A**1 through A**k.\n",
    "# Discard the values that we don't care about. Scan is smart enough to\n",
    "# notice this and not waste memory saving them.\n",
    "final_result = result[2]\n",
    "\n",
    "# compiled function that returns A**k\n",
    "power = theano.function(inputs=[A,k], outputs=final_result, updates=updates)\n",
    "\n",
    "print(power(range(10),2))\n",
    "print(power(range(10),4))"
   ]
  },
  {
   "cell_type": "code",
   "execution_count": null,
   "metadata": {
    "collapsed": true
   },
   "outputs": [],
   "source": []
  }
 ],
 "metadata": {
  "anaconda-cloud": {},
  "kernelspec": {
   "display_name": "Python [Root]",
   "language": "python",
   "name": "Python [Root]"
  },
  "language_info": {
   "codemirror_mode": {
    "name": "ipython",
    "version": 3
   },
   "file_extension": ".py",
   "mimetype": "text/x-python",
   "name": "python",
   "nbconvert_exporter": "python",
   "pygments_lexer": "ipython3",
   "version": "3.5.2"
  }
 },
 "nbformat": 4,
 "nbformat_minor": 0
}
